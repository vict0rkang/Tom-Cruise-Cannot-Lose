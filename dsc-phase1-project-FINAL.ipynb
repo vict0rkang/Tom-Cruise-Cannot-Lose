{
 "cells": [
  {
   "cell_type": "markdown",
   "metadata": {},
   "source": [
    "![example](images/director_shot.jpeg)"
   ]
  },
  {
   "cell_type": "markdown",
   "metadata": {},
   "source": [
    "![example](images/movie_data_erd.jpeg)"
   ]
  },
  {
   "cell_type": "markdown",
   "metadata": {
    "tags": []
   },
   "source": [
    "# Project Title\n",
    "\n",
    "**Authors:** Victor Kang\n",
    "***"
   ]
  },
  {
   "cell_type": "markdown",
   "metadata": {},
   "source": [
    "## Overview\n",
    "\n",
    "A one-paragraph overview of the project, including the business problem, data, methods, results and recommendations."
   ]
  },
  {
   "cell_type": "markdown",
   "metadata": {
    "tags": []
   },
   "source": [
    "## Business Problem\n",
    "\n",
    "Microsoft has been suffering from a severe case of FOMO (Fear-Of-Missing-Out) as they've watched many of their competitors succeed in opening up their own movie studios and creating original video content! Microsoft wants in on the action and is now opening their own movie studio! I've been tasked with providing critical data-based market research to ensure that Microsoft's first movie will be a global success!\n",
    "\n",
    "***\n",
    "Primary Objectives and Qualifications:\n",
    "1. Explore and analyze what **types** of films are **currently** doing the **best at the box office**.\n",
    "* The key terms here in bold must first be defined. For this Project, they shall be defined as follows:\n",
    ">* **Types**: There are many ways to classify or categorize films, most common being by Genre. We can also categorize movies by their budget range, ie. big budget vs small budget.\n",
    ">* **Currently**: Because Microsoft asked for \"currently\", we know we should only consider modern movies in our upcoming analysis. Exactly how modern will be influenced by our available data. Specific Date Range To Be Determined!\n",
    ">* **Best at the Box Office**: \"Best\" will be defined by the financial performance of movies at the Worldwide Box Office. To measure financial performance, we will explore the Worldwide Box Office Gross of movies and compare it to their Production Budgets to calculate the *Profit/Loss* and *Return-On-Investment* metrics.  \n",
    "\n",
    "* In short, our first objective is to determine which Genres and Budget Ranges of modern movies have produced the highest profit and return-on-investment for their movie studios! \n",
    "\n",
    "2. Provide (3) actionable insights / concrete business recommendations based on the analysis. \n",
    "* We plan to provide budget range recommendations and how budgets could have a relationship to financial success.\n",
    "* Genre\n",
    "* Recommendations for cast and crew! Actor, Actress, Director, and Writer recommendations.\n",
    "\n",
    "* What are the business's pain points related to this project?\n",
    "* How did you pick the data analysis question(s) that you did?\n",
    "* Why are these questions important from a business perspective?\n",
    "***"
   ]
  },
  {
   "cell_type": "markdown",
   "metadata": {},
   "source": [
    "## Data Understanding\n",
    "\n",
    "Describe the data being used for this project.\n",
    "***\n",
    "Questions to consider:\n",
    "* Where did the data come from, and how do they relate to the data analysis questions?\n",
    "* What do the data represent? Who is in the sample and what variables are included?\n",
    "* What is the target variable?\n",
    "* What are the properties of the variables you intend to use?\n",
    "***"
   ]
  },
  {
   "cell_type": "code",
   "execution_count": null,
   "metadata": {},
   "outputs": [],
   "source": [
    "# Import standard packages\n",
    "import pandas as pd\n",
    "import numpy as np\n",
    "import matplotlib.pyplot as plt\n",
    "import seaborn as sns\n",
    "import sqlite3\n",
    "\n",
    "%matplotlib inline"
   ]
  },
  {
   "cell_type": "code",
   "execution_count": null,
   "metadata": {},
   "outputs": [],
   "source": [
    "# Here you run your code to explore the data\n",
    "conn = sqlite3.connect(\"zippedData/im.db\")"
   ]
  },
  {
   "cell_type": "code",
   "execution_count": null,
   "metadata": {},
   "outputs": [],
   "source": [
    "df = pd.read_sql(\"\"\"SELECT name FROM sqlite_master WHERE type = 'table';\"\"\", conn)\n",
    "df"
   ]
  },
  {
   "cell_type": "code",
   "execution_count": null,
   "metadata": {},
   "outputs": [],
   "source": [
    "pd.read_sql(\"\"\"\n",
    "SELECT *\n",
    "FROM movie_basics\n",
    ";\n",
    "\"\"\", conn)"
   ]
  },
  {
   "cell_type": "code",
   "execution_count": null,
   "metadata": {},
   "outputs": [],
   "source": [
    "pd.read_sql(\"\"\"\n",
    "SELECT *\n",
    "FROM movie_basics\n",
    "LEFT JOIN movie_ratings USING(movie_id)\n",
    ";\n",
    "\"\"\", conn)"
   ]
  },
  {
   "cell_type": "code",
   "execution_count": null,
   "metadata": {},
   "outputs": [],
   "source": [
    "pd.read_sql(\"\"\"\n",
    "SELECT *\n",
    "FROM movie_ratings\n",
    ";\n",
    "\"\"\", conn)"
   ]
  },
  {
   "cell_type": "code",
   "execution_count": null,
   "metadata": {},
   "outputs": [],
   "source": [
    "pd.read_sql(\"\"\"\n",
    "SELECT *\n",
    "FROM movie_basics\n",
    "LEFT JOIN movie_ratings USING(movie_id)\n",
    "WHERE movie_id IN \n",
    "    (SELECT movie_id\n",
    "    FROM principals\n",
    "    WHERE person_id = \"nm0000129\")\n",
    ";\n",
    "\"\"\", conn)"
   ]
  },
  {
   "cell_type": "code",
   "execution_count": null,
   "metadata": {},
   "outputs": [],
   "source": [
    "pd.read_sql(\"\"\"\n",
    "SELECT *\n",
    "FROM movie_basics\n",
    "WHERE movie_id IN \n",
    "    (SELECT movie_id\n",
    "    FROM principals\n",
    "    WHERE person_id = \"nm0000129\")\n",
    ";\n",
    "\"\"\", conn)"
   ]
  },
  {
   "cell_type": "code",
   "execution_count": null,
   "metadata": {},
   "outputs": [],
   "source": [
    "pd.read_sql(\"\"\"\n",
    "SELECT *\n",
    "FROM movie_basics\n",
    "WHERE movie_id IN \n",
    "    (SELECT movie_id\n",
    "    FROM principals\n",
    "    WHERE person_id = \"nm0000129\")\n",
    ";\n",
    "\"\"\", conn)"
   ]
  },
  {
   "cell_type": "code",
   "execution_count": null,
   "metadata": {},
   "outputs": [],
   "source": [
    "pd.read_sql(\"\"\"\n",
    "SELECT *\n",
    "FROM persons;\n",
    "\"\"\", conn)"
   ]
  },
  {
   "cell_type": "code",
   "execution_count": null,
   "metadata": {},
   "outputs": [],
   "source": [
    "principals = pd.read_sql(\"\"\"\n",
    "SELECT *\n",
    "FROM principals;\n",
    "\"\"\", conn)"
   ]
  },
  {
   "cell_type": "code",
   "execution_count": null,
   "metadata": {},
   "outputs": [],
   "source": [
    "cruiseknownfor = pd.read_sql(\"\"\"\n",
    "SELECT *\n",
    "FROM known_for\n",
    "WHERE person_id = \"nm0000129\";\n",
    "\"\"\", conn)"
   ]
  },
  {
   "cell_type": "code",
   "execution_count": null,
   "metadata": {},
   "outputs": [],
   "source": [
    "cruiseknownfor[\"movie_id\"]"
   ]
  },
  {
   "cell_type": "code",
   "execution_count": null,
   "metadata": {},
   "outputs": [],
   "source": [
    "pd.read_sql(\"\"\"\n",
    "SELECT *\n",
    "FROM known_for\n",
    "WHERE movie_id = \"tt0325710\";\n",
    "\"\"\", conn)"
   ]
  },
  {
   "cell_type": "code",
   "execution_count": null,
   "metadata": {},
   "outputs": [],
   "source": [
    "pd.read_sql(\"\"\"\n",
    "SELECT *\n",
    "FROM principals\n",
    "WHERE person_id = \"nm0000129\";\n",
    "\"\"\", conn)"
   ]
  },
  {
   "cell_type": "code",
   "execution_count": null,
   "metadata": {},
   "outputs": [],
   "source": [
    "pd.read_sql(\"\"\"\n",
    "SELECT *\n",
    "FROM writers\n",
    "WHERE person_id = \"nm0000129\";\n",
    "\"\"\", conn)"
   ]
  },
  {
   "cell_type": "code",
   "execution_count": null,
   "metadata": {},
   "outputs": [],
   "source": [
    "pd.read_sql(\"\"\"\n",
    "SELECT *\n",
    "FROM persons\n",
    "WHERE primary_name LIKE \"%cruise%\";\n",
    "\"\"\", conn)"
   ]
  },
  {
   "cell_type": "code",
   "execution_count": null,
   "metadata": {},
   "outputs": [],
   "source": [
    "pd.read_sql(\"\"\"\n",
    "SELECT *\n",
    "FROM persons\n",
    "WHERE primary_name LIKE \"%jackman%\";\n",
    "\"\"\", conn)"
   ]
  },
  {
   "cell_type": "code",
   "execution_count": null,
   "metadata": {},
   "outputs": [],
   "source": [
    "#Tom Cruise person_id = \"nm0000129\""
   ]
  },
  {
   "cell_type": "code",
   "execution_count": null,
   "metadata": {},
   "outputs": [],
   "source": [
    "pd.read_csv(\"zippedData/bom.movie_gross.csv.gz\").head(50)"
   ]
  },
  {
   "cell_type": "code",
   "execution_count": null,
   "metadata": {},
   "outputs": [],
   "source": [
    "pd.read_csv(\"zippedData/tmdb.movies.csv.gz\",index_col=0).head(25)"
   ]
  },
  {
   "cell_type": "code",
   "execution_count": null,
   "metadata": {},
   "outputs": [],
   "source": [
    "pd.read_csv(\"zippedData/tn.movie_budgets.csv.gz\").head(50)"
   ]
  },
  {
   "cell_type": "code",
   "execution_count": null,
   "metadata": {},
   "outputs": [],
   "source": [
    "pd.read_csv(\"zippedData/rt.movie_info.tsv.gz\", delimiter='\\t' ).head(25)"
   ]
  },
  {
   "cell_type": "code",
   "execution_count": null,
   "metadata": {},
   "outputs": [],
   "source": [
    "pd.read_csv(\"zippedData/rt.reviews.tsv.gz\", delimiter='\\t', encoding='latin1').head(25)"
   ]
  },
  {
   "cell_type": "code",
   "execution_count": null,
   "metadata": {},
   "outputs": [],
   "source": [
    "pd.read_csv(\"zippedData/rt.reviews.tsv.gz\", delimiter='\\t', encoding='latin1')"
   ]
  },
  {
   "cell_type": "code",
   "execution_count": null,
   "metadata": {},
   "outputs": [],
   "source": [
    "pd.read_csv(\"zippedData/movie_gross_data.csv\", index_col=0)"
   ]
  },
  {
   "cell_type": "markdown",
   "metadata": {},
   "source": [
    "## Data Preparation\n",
    "\n",
    "Describe and justify the process for preparing the data for analysis.\n",
    "\n",
    "***\n",
    "Questions to consider:\n",
    "* Were there variables you dropped or created?\n",
    "* How did you address missing values or outliers?\n",
    "* Why are these choices appropriate given the data and the business problem?\n",
    "***"
   ]
  },
  {
   "cell_type": "code",
   "execution_count": null,
   "metadata": {},
   "outputs": [],
   "source": [
    "# Here you run your code to clean the data\n",
    "thenumbers = pd.read_csv(\"zippedData/tn.movie_budgets.csv.gz\")"
   ]
  },
  {
   "cell_type": "code",
   "execution_count": null,
   "metadata": {},
   "outputs": [],
   "source": [
    "thenumbers.info()"
   ]
  },
  {
   "cell_type": "code",
   "execution_count": null,
   "metadata": {},
   "outputs": [],
   "source": [
    "thenumbers.duplicated().values.sum() #No duplicates in dataset"
   ]
  },
  {
   "cell_type": "code",
   "execution_count": null,
   "metadata": {},
   "outputs": [],
   "source": [
    "thenumbers[\"production_budget\"].apply(type).value_counts()"
   ]
  },
  {
   "cell_type": "code",
   "execution_count": null,
   "metadata": {},
   "outputs": [],
   "source": [
    "thenumbers[\"domestic_gross\"].apply(type).value_counts()"
   ]
  },
  {
   "cell_type": "code",
   "execution_count": null,
   "metadata": {},
   "outputs": [],
   "source": [
    "thenumbers[\"worldwide_gross\"].apply(type).value_counts()"
   ]
  },
  {
   "cell_type": "code",
   "execution_count": null,
   "metadata": {},
   "outputs": [],
   "source": [
    "thenumbers[\"production_budget\"] = thenumbers[\"production_budget\"].replace({'\\$': '', ',': ''}, regex=True).astype(float)\n",
    "thenumbers[\"production_budget\"].apply(type).value_counts()"
   ]
  },
  {
   "cell_type": "code",
   "execution_count": null,
   "metadata": {},
   "outputs": [],
   "source": [
    "thenumbers[\"domestic_gross\"] = thenumbers[\"domestic_gross\"].replace({'\\$': '', ',': ''}, regex=True).astype(float)\n",
    "thenumbers[\"domestic_gross\"].apply(type).value_counts()"
   ]
  },
  {
   "cell_type": "code",
   "execution_count": null,
   "metadata": {},
   "outputs": [],
   "source": [
    "thenumbers[\"worldwide_gross\"] = thenumbers[\"worldwide_gross\"].replace({'\\$': '', ',': ''}, regex=True).astype(float)\n",
    "thenumbers[\"worldwide_gross\"].apply(type).value_counts()"
   ]
  },
  {
   "cell_type": "code",
   "execution_count": null,
   "metadata": {},
   "outputs": [],
   "source": []
  },
  {
   "cell_type": "code",
   "execution_count": null,
   "metadata": {},
   "outputs": [],
   "source": [
    "thenumbers[\"foreign_gross\"] = thenumbers[\"worldwide_gross\"] - thenumbers[\"domestic_gross\"]"
   ]
  },
  {
   "cell_type": "code",
   "execution_count": null,
   "metadata": {},
   "outputs": [],
   "source": [
    "thenumbers[\"foreign_gross\"].apply(type).value_counts()"
   ]
  },
  {
   "cell_type": "code",
   "execution_count": null,
   "metadata": {},
   "outputs": [],
   "source": [
    "thenumbers[\"profit_loss\"] = thenumbers[\"worldwide_gross\"] - thenumbers[\"production_budget\"]"
   ]
  },
  {
   "cell_type": "code",
   "execution_count": null,
   "metadata": {},
   "outputs": [],
   "source": [
    "thenumbers[\"profit_loss\"].describe()"
   ]
  },
  {
   "cell_type": "code",
   "execution_count": null,
   "metadata": {},
   "outputs": [],
   "source": [
    "thenumbers[\"roi\"] = (thenumbers[\"profit_loss\"] / thenumbers[\"production_budget\"] ) *100"
   ]
  },
  {
   "cell_type": "code",
   "execution_count": null,
   "metadata": {},
   "outputs": [],
   "source": [
    "thenumbers.sort_values(by='profit_loss', ascending=False).head(50).describe()"
   ]
  },
  {
   "cell_type": "code",
   "execution_count": null,
   "metadata": {},
   "outputs": [],
   "source": [
    "thenumbers.sort_values(by='roi', ascending=False).head(50).describe()"
   ]
  },
  {
   "cell_type": "code",
   "execution_count": null,
   "metadata": {},
   "outputs": [],
   "source": [
    "top500moviesbypnl = thenumbers.sort_values(by='profit_loss', ascending=False).head(500)[\"movie\"]"
   ]
  },
  {
   "cell_type": "code",
   "execution_count": null,
   "metadata": {},
   "outputs": [],
   "source": [
    "top500moviesbypnl"
   ]
  },
  {
   "cell_type": "code",
   "execution_count": null,
   "metadata": {},
   "outputs": [],
   "source": [
    "top500moviesbyroi = thenumbers.sort_values(by='roi', ascending=False).head(500)[\"movie\"]"
   ]
  },
  {
   "cell_type": "code",
   "execution_count": null,
   "metadata": {},
   "outputs": [],
   "source": [
    "top500moviesbyroi"
   ]
  },
  {
   "cell_type": "code",
   "execution_count": null,
   "metadata": {},
   "outputs": [],
   "source": [
    "#topmoviespnlroi = pd.Series(np.intersect1d(top500moviesbypnl,top500moviesbyroi))\n",
    "\n",
    "topmoviespnlroi = pd.Series(list(set(top500moviesbypnl).intersection(set(top500moviesbyroi))))\n",
    "\n",
    "topmoviespnlroi"
   ]
  },
  {
   "cell_type": "code",
   "execution_count": null,
   "metadata": {},
   "outputs": [],
   "source": [
    "dfpnlroi = thenumbers[thenumbers[\"movie\"].isin(topmoviespnlroi)]"
   ]
  },
  {
   "cell_type": "code",
   "execution_count": null,
   "metadata": {},
   "outputs": [],
   "source": [
    "dfpnlroi.sort_values(by='profit_loss', ascending=False)"
   ]
  },
  {
   "cell_type": "code",
   "execution_count": null,
   "metadata": {},
   "outputs": [],
   "source": [
    "dfpnlroi.loc[dfpnlroi['movie'] == 'Twilight']"
   ]
  },
  {
   "cell_type": "code",
   "execution_count": null,
   "metadata": {},
   "outputs": [],
   "source": [
    "samenamemovies = dfpnlroi[dfpnlroi.duplicated('movie', keep=False)]"
   ]
  },
  {
   "cell_type": "code",
   "execution_count": null,
   "metadata": {},
   "outputs": [],
   "source": [
    "samenamemovies.sort_values(by='profit_loss', ascending=False)"
   ]
  },
  {
   "cell_type": "code",
   "execution_count": null,
   "metadata": {},
   "outputs": [],
   "source": [
    "samenamemovies.sort_values(by='roi', ascending=False)"
   ]
  },
  {
   "cell_type": "code",
   "execution_count": null,
   "metadata": {},
   "outputs": [],
   "source": [
    "pd.plotting.scatter_matrix(samenamemovies, figsize=(15,15));"
   ]
  },
  {
   "cell_type": "code",
   "execution_count": null,
   "metadata": {},
   "outputs": [],
   "source": [
    "samenamemovies.describe()"
   ]
  },
  {
   "cell_type": "code",
   "execution_count": null,
   "metadata": {},
   "outputs": [],
   "source": [
    "dfpnlroi.describe()"
   ]
  },
  {
   "cell_type": "code",
   "execution_count": null,
   "metadata": {},
   "outputs": [],
   "source": [
    "thenumbers.sort_values(by='profit_loss', ascending=False).head(500).describe() \n",
    "#minimum of top 500 pnl is 2.037891e+08 (Paddington)"
   ]
  },
  {
   "cell_type": "code",
   "execution_count": null,
   "metadata": {},
   "outputs": [],
   "source": [
    "thenumbers.sort_values(by='roi', ascending=False).head(500)\n",
    "#minimum of top 500 roi is 759.705987 (The Woman in Black)"
   ]
  },
  {
   "cell_type": "code",
   "execution_count": null,
   "metadata": {},
   "outputs": [],
   "source": [
    "samenamemovies2 = samenamemovies[samenamemovies[\"profit_loss\"] > 203789100]\n",
    "samenamemovies2.sort_values(by = \"profit_loss\", ascending = False)\n",
    "#samenamemovies5 = samenamemovies2[samenamemovies2[\"roi\"] > 759.705987]\n",
    "#samenamemovies5"
   ]
  },
  {
   "cell_type": "code",
   "execution_count": null,
   "metadata": {},
   "outputs": [],
   "source": [
    "samenamemovies3 = samenamemovies[samenamemovies[\"roi\"] > 759.705987]\n",
    "samenamemovies3.sort_values(by = \"roi\", ascending = False)\n",
    "#samenamemovies4 = samenamemovies3[samenamemovies3[\"profit_loss\"] > 203789100]\n",
    "#samenamemovies4"
   ]
  },
  {
   "cell_type": "code",
   "execution_count": null,
   "metadata": {},
   "outputs": [],
   "source": [
    "worthymovies = pd.concat([samenamemovies2, samenamemovies3]).drop_duplicates()\n",
    "worthymovies"
   ]
  },
  {
   "cell_type": "code",
   "execution_count": null,
   "metadata": {},
   "outputs": [],
   "source": [
    "unworthymovies = samenamemovies[~samenamemovies.isin(worthymovies)].dropna()\n",
    "unworthymovies"
   ]
  },
  {
   "cell_type": "code",
   "execution_count": null,
   "metadata": {},
   "outputs": [],
   "source": [
    "dfpnlroi"
   ]
  },
  {
   "cell_type": "code",
   "execution_count": null,
   "metadata": {},
   "outputs": [],
   "source": [
    "dfpnlroi2 = dfpnlroi[~dfpnlroi.isin(unworthymovies)].dropna()"
   ]
  },
  {
   "cell_type": "code",
   "execution_count": null,
   "metadata": {},
   "outputs": [],
   "source": [
    "dfpnlroi2.describe()"
   ]
  },
  {
   "cell_type": "code",
   "execution_count": null,
   "metadata": {},
   "outputs": [],
   "source": [
    "thenumbers.describe()"
   ]
  },
  {
   "cell_type": "code",
   "execution_count": null,
   "metadata": {},
   "outputs": [],
   "source": [
    "dfpnlroi2['release_date'] = pd.to_datetime(dfpnlroi2['release_date'])\n",
    "dfpnlroi2.sort_values(by=\"release_date\", ascending=False).head(60)"
   ]
  },
  {
   "cell_type": "code",
   "execution_count": null,
   "metadata": {},
   "outputs": [],
   "source": [
    "dfpnlroi2[\"release_date\"].apply(type).value_counts()"
   ]
  },
  {
   "cell_type": "code",
   "execution_count": null,
   "metadata": {},
   "outputs": [],
   "source": [
    "dfpnlroi2[\"release_date\"].min()"
   ]
  },
  {
   "cell_type": "code",
   "execution_count": null,
   "metadata": {},
   "outputs": [],
   "source": [
    "dfpnlroi2[\"release_date\"].max()"
   ]
  },
  {
   "cell_type": "code",
   "execution_count": null,
   "metadata": {},
   "outputs": [],
   "source": [
    "dfpnlroi[dfpnlroi['movie'].str.contains('mission', regex=False)]"
   ]
  },
  {
   "cell_type": "code",
   "execution_count": null,
   "metadata": {},
   "outputs": [],
   "source": [
    "pd.read_csv(\"zippedData/tn.movie_budgets.csv.gz\")"
   ]
  },
  {
   "cell_type": "code",
   "execution_count": null,
   "metadata": {},
   "outputs": [],
   "source": [
    "bomdf = pd.read_csv(\"zippedData/bom.movie_gross.csv.gz\")"
   ]
  },
  {
   "cell_type": "code",
   "execution_count": null,
   "metadata": {},
   "outputs": [],
   "source": [
    "newbomdf = pd.read_csv(\"zippedData/movie_gross_data.csv\", index_col=0)"
   ]
  },
  {
   "cell_type": "code",
   "execution_count": null,
   "metadata": {},
   "outputs": [],
   "source": [
    "bomdf.info()"
   ]
  },
  {
   "cell_type": "code",
   "execution_count": null,
   "metadata": {},
   "outputs": [],
   "source": [
    "bomdf.sort_values(by=\"year\", ascending=False).head(60)"
   ]
  },
  {
   "cell_type": "code",
   "execution_count": null,
   "metadata": {},
   "outputs": [],
   "source": [
    "newbomdf[newbomdf['Release Group'].str.contains('Mission', regex=False)]"
   ]
  },
  {
   "cell_type": "code",
   "execution_count": null,
   "metadata": {},
   "outputs": [],
   "source": [
    "newbomdf.info()"
   ]
  },
  {
   "cell_type": "code",
   "execution_count": null,
   "metadata": {},
   "outputs": [],
   "source": [
    "newbomdf.sort_values(by=\"year\", ascending=False).head(60)"
   ]
  },
  {
   "cell_type": "code",
   "execution_count": null,
   "metadata": {},
   "outputs": [],
   "source": [
    "budgets = pd.read_csv(\"zippedData/movies budgets.csv\")"
   ]
  },
  {
   "cell_type": "code",
   "execution_count": null,
   "metadata": {},
   "outputs": [],
   "source": [
    "justbudgets = budgets.drop(droplist,axis=1) #just extract budgets"
   ]
  },
  {
   "cell_type": "code",
   "execution_count": null,
   "metadata": {},
   "outputs": [],
   "source": [
    "justbudgets.drop(justbudgets[justbudgets['budget'] <= 1].index, inplace = True) #remove records with no budget info"
   ]
  },
  {
   "cell_type": "code",
   "execution_count": null,
   "metadata": {},
   "outputs": [],
   "source": [
    "justbudgets.drop_duplicates(inplace=True)"
   ]
  },
  {
   "cell_type": "code",
   "execution_count": null,
   "metadata": {},
   "outputs": [],
   "source": [
    "justbudgets[\"movie (year)\"] = justbudgets['title'].astype(str) + \" (\" + justbudgets['release_date'].str[0:4] + \")\""
   ]
  },
  {
   "cell_type": "code",
   "execution_count": null,
   "metadata": {},
   "outputs": [],
   "source": [
    "justbudgets"
   ]
  },
  {
   "cell_type": "code",
   "execution_count": null,
   "metadata": {},
   "outputs": [],
   "source": []
  },
  {
   "cell_type": "code",
   "execution_count": null,
   "metadata": {},
   "outputs": [],
   "source": [
    "justbudgetsdup = justbudgets[justbudgets.duplicated(keep=False)]"
   ]
  },
  {
   "cell_type": "code",
   "execution_count": null,
   "metadata": {},
   "outputs": [],
   "source": [
    "justbudgetsdup.head(50)"
   ]
  },
  {
   "cell_type": "code",
   "execution_count": null,
   "metadata": {},
   "outputs": [],
   "source": [
    "#pd.merge(df1,df2,on ='Name', how ='left')"
   ]
  },
  {
   "cell_type": "code",
   "execution_count": null,
   "metadata": {},
   "outputs": [],
   "source": []
  },
  {
   "cell_type": "code",
   "execution_count": null,
   "metadata": {},
   "outputs": [],
   "source": []
  },
  {
   "cell_type": "code",
   "execution_count": null,
   "metadata": {},
   "outputs": [],
   "source": [
    "budgets.info()"
   ]
  },
  {
   "cell_type": "code",
   "execution_count": null,
   "metadata": {},
   "outputs": [],
   "source": [
    "droplist = list(budgets.columns)"
   ]
  },
  {
   "cell_type": "code",
   "execution_count": null,
   "metadata": {},
   "outputs": [],
   "source": [
    "droplist.remove('title')"
   ]
  },
  {
   "cell_type": "code",
   "execution_count": null,
   "metadata": {},
   "outputs": [],
   "source": [
    "droplist.remove('budget')"
   ]
  },
  {
   "cell_type": "code",
   "execution_count": null,
   "metadata": {},
   "outputs": [],
   "source": [
    "droplist.remove('release_date')"
   ]
  },
  {
   "cell_type": "code",
   "execution_count": null,
   "metadata": {},
   "outputs": [],
   "source": [
    "newbomdf.rename({'Release Group': 'title'}, axis=1, inplace=True)"
   ]
  },
  {
   "cell_type": "code",
   "execution_count": null,
   "metadata": {},
   "outputs": [],
   "source": [
    "newbomdf.duplicated().values.sum()"
   ]
  },
  {
   "cell_type": "code",
   "execution_count": null,
   "metadata": {},
   "outputs": [],
   "source": [
    "newbomdf"
   ]
  },
  {
   "cell_type": "code",
   "execution_count": null,
   "metadata": {},
   "outputs": [],
   "source": [
    "newbomdf[\"movie (year)\"] = newbomdf['title'].astype(str) + \" (\" + newbomdf['year'].astype(str).str[0:4] + \")\""
   ]
  },
  {
   "cell_type": "code",
   "execution_count": null,
   "metadata": {},
   "outputs": [],
   "source": [
    "newbomdf[newbomdf['movie (year)'].str.contains('mission', regex=False)]"
   ]
  },
  {
   "cell_type": "code",
   "execution_count": null,
   "metadata": {},
   "outputs": [],
   "source": [
    "newbomdf"
   ]
  },
  {
   "cell_type": "code",
   "execution_count": null,
   "metadata": {},
   "outputs": [],
   "source": [
    "mergenewbombudgets = pd.merge(newbomdf,justbudgets,on ='movie (year)', how ='left')"
   ]
  },
  {
   "cell_type": "code",
   "execution_count": null,
   "metadata": {},
   "outputs": [],
   "source": [
    "mergenewbombudgets"
   ]
  },
  {
   "cell_type": "code",
   "execution_count": null,
   "metadata": {},
   "outputs": [],
   "source": [
    "mergenewbombudgets.dropna(inplace=True)"
   ]
  },
  {
   "cell_type": "code",
   "execution_count": null,
   "metadata": {},
   "outputs": [],
   "source": [
    "mergenewbombudgets"
   ]
  },
  {
   "cell_type": "code",
   "execution_count": null,
   "metadata": {},
   "outputs": [],
   "source": [
    "thenumbers #first time i did this, didn't create movie+year so had to do extra cool programming to deal with movies that share same name\n",
    "#this time, tho, I will deal with this ahead of time"
   ]
  },
  {
   "cell_type": "code",
   "execution_count": null,
   "metadata": {},
   "outputs": [],
   "source": [
    "thenumbers[\"movie (year)\"] = thenumbers['movie'].astype(str) + \" (\" + thenumbers['release_date'].astype(str).str[-4:] + \")\""
   ]
  },
  {
   "cell_type": "code",
   "execution_count": null,
   "metadata": {},
   "outputs": [],
   "source": [
    "thenumbers.head(50)"
   ]
  },
  {
   "cell_type": "code",
   "execution_count": null,
   "metadata": {},
   "outputs": [],
   "source": [
    "thenumbers[thenumbers['movie (year)'].str.contains('Pirates', regex=False)]"
   ]
  },
  {
   "cell_type": "code",
   "execution_count": null,
   "metadata": {},
   "outputs": [],
   "source": [
    "thenumbers['movie'] = thenumbers['movie'].str.replace(\"â\",\"'\")"
   ]
  },
  {
   "cell_type": "code",
   "execution_count": null,
   "metadata": {},
   "outputs": [],
   "source": [
    "mergenewbombudgets[mergenewbombudgets['movie (year)'].str.contains('Mission', regex=False)]"
   ]
  },
  {
   "cell_type": "code",
   "execution_count": null,
   "metadata": {},
   "outputs": [],
   "source": [
    "testing = pd.merge(mergenewbombudgets,thenumbers,on ='movie (year)', how ='outer')"
   ]
  },
  {
   "cell_type": "code",
   "execution_count": null,
   "metadata": {},
   "outputs": [],
   "source": [
    "testing[[\"movie (year)\",\"budget\",\"production_budget\"]]"
   ]
  },
  {
   "cell_type": "code",
   "execution_count": null,
   "metadata": {},
   "outputs": [],
   "source": [
    "testing[[\"movie (year)\",\"budget\",\"production_budget\"]]"
   ]
  },
  {
   "cell_type": "code",
   "execution_count": null,
   "metadata": {},
   "outputs": [],
   "source": [
    "testing['maxBudget'] = testing.apply(\n",
    "    lambda row: max(row[\"budget\"] , row[\"production_budget\"]), axis=1)"
   ]
  },
  {
   "cell_type": "code",
   "execution_count": null,
   "metadata": {},
   "outputs": [],
   "source": [
    "testing['maxBudget'] = testing['maxBudget'].fillna(testing['production_budget'])"
   ]
  },
  {
   "cell_type": "code",
   "execution_count": null,
   "metadata": {},
   "outputs": [],
   "source": [
    "testing.info()"
   ]
  },
  {
   "cell_type": "code",
   "execution_count": null,
   "metadata": {},
   "outputs": [],
   "source": [
    "testing[[\"movie (year)\",\"budget\",\"production_budget\", 'maxBudget']].head(2000)"
   ]
  },
  {
   "cell_type": "code",
   "execution_count": null,
   "metadata": {},
   "outputs": [],
   "source": [
    "testing.head(4000)"
   ]
  },
  {
   "cell_type": "code",
   "execution_count": null,
   "metadata": {},
   "outputs": [],
   "source": [
    "testing[testing['movie (year)'].str.contains('Mission', regex=False)]"
   ]
  },
  {
   "cell_type": "code",
   "execution_count": null,
   "metadata": {},
   "outputs": [],
   "source": [
    "test = testing.drop([\"Rank\",\"%\",\"%.1\"], axis=1)"
   ]
  },
  {
   "cell_type": "code",
   "execution_count": null,
   "metadata": {},
   "outputs": [],
   "source": [
    "test[~test.isnull().any(axis=1)]"
   ]
  },
  {
   "cell_type": "code",
   "execution_count": null,
   "metadata": {},
   "outputs": [],
   "source": [
    "test[['Worldwide','worldwide_gross','movie (year)']]"
   ]
  },
  {
   "cell_type": "code",
   "execution_count": null,
   "metadata": {},
   "outputs": [],
   "source": [
    "test[\"Worldwide\"] = test[\"Worldwide\"].replace({'\\$': '', ',': ''}, regex=True).astype(float)\n",
    "test[\"Worldwide\"].apply(type).value_counts()"
   ]
  },
  {
   "cell_type": "code",
   "execution_count": null,
   "metadata": {},
   "outputs": [],
   "source": [
    "test[\"Domestic\"] = test[\"Domestic\"].replace({'\\$': '', ',': '', '-': '0'}, regex=True).astype(float)\n",
    "test[\"Domestic\"].apply(type).value_counts()"
   ]
  },
  {
   "cell_type": "code",
   "execution_count": null,
   "metadata": {},
   "outputs": [],
   "source": [
    "test[\"Foreign\"] = test[\"Foreign\"].replace({'\\$': '', ',': '', '-': '0'}, regex=True).astype(float)\n",
    "test[\"Foreign\"].apply(type).value_counts()"
   ]
  },
  {
   "cell_type": "code",
   "execution_count": null,
   "metadata": {},
   "outputs": [],
   "source": [
    "test['WW UTD'] = test.apply(\n",
    "    lambda row: max(row[\"Worldwide\"] , row[\"worldwide_gross\"]), axis=1)\n",
    "test['WW UTD'] = test['WW UTD'].fillna(testing['worldwide_gross'])"
   ]
  },
  {
   "cell_type": "code",
   "execution_count": null,
   "metadata": {},
   "outputs": [],
   "source": [
    "test[['Worldwide','worldwide_gross','WW UTD','movie (year)']].head(4800)"
   ]
  },
  {
   "cell_type": "code",
   "execution_count": null,
   "metadata": {},
   "outputs": [],
   "source": [
    "test['DOM UTD'] = test.apply(\n",
    "    lambda row: max(row[\"Domestic\"] , row[\"domestic_gross\"]), axis=1)\n",
    "test['DOM UTD'] = test['DOM UTD'].fillna(testing['domestic_gross'])"
   ]
  },
  {
   "cell_type": "code",
   "execution_count": null,
   "metadata": {},
   "outputs": [],
   "source": [
    "test['FOR UTD'] = test.apply(\n",
    "    lambda row: max(row[\"Foreign\"] , row[\"foreign_gross\"]), axis=1)\n",
    "test['FOR UTD'] = test['FOR UTD'].fillna(testing['foreign_gross'])"
   ]
  },
  {
   "cell_type": "code",
   "execution_count": null,
   "metadata": {},
   "outputs": [],
   "source": [
    "test[\"profit_loss\"] = test[\"WW UTD\"] - test[\"maxBudget\"]"
   ]
  },
  {
   "cell_type": "code",
   "execution_count": null,
   "metadata": {},
   "outputs": [],
   "source": [
    "test[\"roi\"] = (test[\"profit_loss\"] / test[\"maxBudget\"] ) *100"
   ]
  },
  {
   "cell_type": "code",
   "execution_count": null,
   "metadata": {},
   "outputs": [],
   "source": [
    "test[\"Year\"] = test['movie (year)'].str[-5:-1].astype(int)\n",
    "test.info()"
   ]
  },
  {
   "cell_type": "code",
   "execution_count": null,
   "metadata": {},
   "outputs": [],
   "source": [
    "test.drop(\"year2\", axis=1, inplace=True)"
   ]
  },
  {
   "cell_type": "code",
   "execution_count": null,
   "metadata": {},
   "outputs": [],
   "source": [
    "test.sort_values(by='maxBudget').head(500)"
   ]
  },
  {
   "cell_type": "code",
   "execution_count": null,
   "metadata": {},
   "outputs": [],
   "source": [
    "test.drop(test[test['maxBudget'] < 1000000].index, inplace = True) \n",
    "#dropping all records with budget data less than $1mil as its causing skews"
   ]
  },
  {
   "cell_type": "code",
   "execution_count": null,
   "metadata": {},
   "outputs": [],
   "source": [
    "test2 = test[test.columns[~test.isnull().any()]]"
   ]
  },
  {
   "cell_type": "code",
   "execution_count": null,
   "metadata": {},
   "outputs": [],
   "source": [
    "test3 = test2.sort_values(by=\"Year\", ascending = False).head(5000) \n",
    "#take 5000 most recent movies in database, cuz we want currently which equates to 1999"
   ]
  },
  {
   "cell_type": "code",
   "execution_count": null,
   "metadata": {},
   "outputs": [],
   "source": [
    "test[test['movie (year)'].str.contains('Mission', regex=False)]"
   ]
  },
  {
   "cell_type": "code",
   "execution_count": null,
   "metadata": {},
   "outputs": [],
   "source": [
    "test3roi500 = test3.sort_values(by=\"roi\", ascending = False).head(1000)['movie (year)']"
   ]
  },
  {
   "cell_type": "code",
   "execution_count": null,
   "metadata": {},
   "outputs": [],
   "source": []
  },
  {
   "cell_type": "code",
   "execution_count": null,
   "metadata": {},
   "outputs": [],
   "source": [
    "test3pnl500 = test3.sort_values(by=\"profit_loss\", ascending = False).head(500)['movie (year)']"
   ]
  },
  {
   "cell_type": "code",
   "execution_count": null,
   "metadata": {},
   "outputs": [],
   "source": [
    "test3[test3['movie (year)'] == \"Edge of Tomorrow (2014)\"]"
   ]
  },
  {
   "cell_type": "code",
   "execution_count": null,
   "metadata": {},
   "outputs": [],
   "source": [
    "test3[test3['movie (year)'] == \"How to Train Your Dragon 2 (2014)\"]"
   ]
  },
  {
   "cell_type": "code",
   "execution_count": null,
   "metadata": {},
   "outputs": [],
   "source": [
    "test3pnl500.tail(6)"
   ]
  },
  {
   "cell_type": "code",
   "execution_count": null,
   "metadata": {},
   "outputs": [],
   "source": [
    "test3[test3['movie (year)'] == \"Crouching Tiger, Hidden Dragon (2000)\"]"
   ]
  },
  {
   "cell_type": "code",
   "execution_count": null,
   "metadata": {},
   "outputs": [],
   "source": [
    "test3pnlroi500 = pd.Series(list(set(test3roi500).intersection(set(test3pnl500))))"
   ]
  },
  {
   "cell_type": "code",
   "execution_count": null,
   "metadata": {},
   "outputs": [],
   "source": [
    "test3pnlroi500.head(60)"
   ]
  },
  {
   "cell_type": "code",
   "execution_count": null,
   "metadata": {},
   "outputs": [],
   "source": [
    "test3pnlroi500[test3pnlroi500 == \"Edge of Tomorrow (2014)\"]"
   ]
  },
  {
   "cell_type": "code",
   "execution_count": null,
   "metadata": {},
   "outputs": [],
   "source": [
    "test4 = test3[test3[\"movie (year)\"].isin(test3pnlroi500)]\n",
    "test4"
   ]
  },
  {
   "cell_type": "code",
   "execution_count": null,
   "metadata": {},
   "outputs": [],
   "source": [
    "test4.describe()"
   ]
  },
  {
   "cell_type": "code",
   "execution_count": null,
   "metadata": {},
   "outputs": [],
   "source": [
    "test4[test4['movie (year)'].str.contains('Mission', regex=False)]"
   ]
  },
  {
   "cell_type": "code",
   "execution_count": null,
   "metadata": {},
   "outputs": [],
   "source": [
    "test4.info()"
   ]
  },
  {
   "cell_type": "code",
   "execution_count": null,
   "metadata": {},
   "outputs": [],
   "source": [
    "pd.set_option('display.max_rows', None)\n",
    "test4"
   ]
  },
  {
   "cell_type": "code",
   "execution_count": null,
   "metadata": {},
   "outputs": [],
   "source": [
    "pd.reset_option('display.max_rows')"
   ]
  },
  {
   "cell_type": "code",
   "execution_count": null,
   "metadata": {},
   "outputs": [],
   "source": [
    "test4=test4.drop(2513)"
   ]
  },
  {
   "cell_type": "code",
   "execution_count": null,
   "metadata": {},
   "outputs": [],
   "source": [
    "test4.describe()"
   ]
  },
  {
   "cell_type": "code",
   "execution_count": null,
   "metadata": {},
   "outputs": [],
   "source": [
    "test4.sort_values(by=\"profit_loss\", ascending=False).head(50)"
   ]
  },
  {
   "cell_type": "code",
   "execution_count": null,
   "metadata": {},
   "outputs": [],
   "source": [
    "test4.sort_values(by=\"roi\", ascending=False).head(50)"
   ]
  },
  {
   "cell_type": "code",
   "execution_count": null,
   "metadata": {},
   "outputs": [],
   "source": [
    "test4[\"Profit/Loss ($, Millions)\"] = round(test4['profit_loss']/1000000)"
   ]
  },
  {
   "cell_type": "code",
   "execution_count": null,
   "metadata": {},
   "outputs": [],
   "source": [
    "test4[\"RoI (%)\"] = round(test4['roi'])"
   ]
  },
  {
   "cell_type": "code",
   "execution_count": null,
   "metadata": {},
   "outputs": [],
   "source": [
    "test4[\"Budget ($, Millions)\"] = round(test4['maxBudget']/1000000)"
   ]
  },
  {
   "cell_type": "code",
   "execution_count": null,
   "metadata": {},
   "outputs": [],
   "source": [
    "test4[\"Total Box Office ($, Millions)\"] = round(test4['WW UTD']/1000000)"
   ]
  },
  {
   "cell_type": "code",
   "execution_count": null,
   "metadata": {},
   "outputs": [],
   "source": [
    "test4"
   ]
  },
  {
   "cell_type": "code",
   "execution_count": null,
   "metadata": {},
   "outputs": [],
   "source": [
    "test5 = test4[[\"movie (year)\",\"Budget ($, Millions)\",\"Total Box Office ($, Millions)\",\"Profit/Loss ($, Millions)\",\"RoI (%)\",\"Year\"]]"
   ]
  },
  {
   "cell_type": "code",
   "execution_count": null,
   "metadata": {},
   "outputs": [],
   "source": [
    "test5.head(100)"
   ]
  },
  {
   "cell_type": "markdown",
   "metadata": {},
   "source": [
    "## Data Modeling\n",
    "Describe and justify the process for analyzing or modeling the data.\n",
    "\n",
    "***\n",
    "Questions to consider:\n",
    "* How did you analyze or model the data?\n",
    "* How did you iterate on your initial approach to make it better?\n",
    "* Why are these choices appropriate given the data and the business problem?\n",
    "***"
   ]
  },
  {
   "cell_type": "code",
   "execution_count": null,
   "metadata": {},
   "outputs": [],
   "source": [
    "# Here you run your code to model the data\n",
    "pd.plotting.scatter_matrix(test5, figsize=(20,20));"
   ]
  },
  {
   "cell_type": "code",
   "execution_count": null,
   "metadata": {},
   "outputs": [],
   "source": [
    "plt.figure(figsize=(20,20))\n",
    "sns.pairplot(test5,palette=\"husl\")"
   ]
  },
  {
   "cell_type": "code",
   "execution_count": null,
   "metadata": {},
   "outputs": [],
   "source": [
    "test5.describe()"
   ]
  },
  {
   "cell_type": "code",
   "execution_count": null,
   "metadata": {},
   "outputs": [],
   "source": [
    "test5.cov()"
   ]
  },
  {
   "cell_type": "code",
   "execution_count": null,
   "metadata": {},
   "outputs": [],
   "source": [
    "test5.corr(method='pearson')"
   ]
  },
  {
   "cell_type": "code",
   "execution_count": null,
   "metadata": {},
   "outputs": [],
   "source": [
    "principals = pd.read_sql(\"\"\"\n",
    "SELECT pr.movie_id, pr.person_id, primary_name, primary_title, start_year\n",
    "FROM principals AS pr\n",
    "JOIN persons AS pe ON pr.person_id=pe.person_id\n",
    "JOIN movie_basics AS mb ON pr.movie_id=mb.movie_id\n",
    ";\n",
    "\"\"\", conn)\n"
   ]
  },
  {
   "cell_type": "code",
   "execution_count": null,
   "metadata": {},
   "outputs": [],
   "source": [
    "principals.loc[principals[principals[\"primary_title\"].str.contains('Top Gun')].index, 'start_year'] = 2022"
   ]
  },
  {
   "cell_type": "code",
   "execution_count": null,
   "metadata": {},
   "outputs": [],
   "source": [
    "principals[\"movie (year)\"] = principals['primary_title'].astype(str) + \" (\" + principals['start_year'].astype(str).str[-4:] + \")\""
   ]
  },
  {
   "cell_type": "code",
   "execution_count": null,
   "metadata": {},
   "outputs": [],
   "source": [
    "principals[\"movie (year)\"].value_counts()"
   ]
  },
  {
   "cell_type": "code",
   "execution_count": null,
   "metadata": {},
   "outputs": [],
   "source": [
    "#principals['start_year'] = principals[principals[\"primary_title\"].str.contains('Top Gun')]['start_year'] == 2022"
   ]
  },
  {
   "cell_type": "code",
   "execution_count": null,
   "metadata": {},
   "outputs": [],
   "source": [
    "principals[principals[\"primary_title\"].str.contains('Top Gun')].index"
   ]
  },
  {
   "cell_type": "code",
   "execution_count": null,
   "metadata": {},
   "outputs": [],
   "source": [
    "principals[principals[\"primary_title\"].str.contains('Top Gun')]"
   ]
  },
  {
   "cell_type": "code",
   "execution_count": null,
   "metadata": {},
   "outputs": [],
   "source": [
    "principals[principals[\"movie (year)\"].isin(test5[\"movie (year)\"])][\"movie (year)\"].value_counts()"
   ]
  },
  {
   "cell_type": "code",
   "execution_count": null,
   "metadata": {},
   "outputs": [],
   "source": [
    "principals[principals[\"movie (year)\"].isin(test5[\"movie (year)\"])][\"primary_name\"].value_counts().head(50)"
   ]
  },
  {
   "cell_type": "code",
   "execution_count": null,
   "metadata": {},
   "outputs": [],
   "source": [
    "principals[principals[\"primary_name\"].str.contains('Cruise')]['movie (year)'].isin(test5['movie (year)'])"
   ]
  },
  {
   "cell_type": "code",
   "execution_count": null,
   "metadata": {},
   "outputs": [],
   "source": [
    "pd.read_sql(\"\"\"\n",
    "SELECT pr.movie_id, pr.person_id, primary_name, primary_title, start_year\n",
    "FROM principals AS pr\n",
    "JOIN persons AS pe ON pr.person_id=pe.person_id\n",
    "JOIN movie_basics AS mb ON pr.movie_id=mb.movie_id;\n",
    "\"\"\", conn)\n"
   ]
  },
  {
   "cell_type": "code",
   "execution_count": null,
   "metadata": {},
   "outputs": [],
   "source": [
    "pd.read_sql(\"\"\"\n",
    "SELECT *\n",
    "FROM persons\n",
    "WHERE primary_profession LIKE \"%writer%\"\n",
    ";\n",
    "\"\"\", conn)\n"
   ]
  },
  {
   "cell_type": "code",
   "execution_count": null,
   "metadata": {},
   "outputs": [],
   "source": [
    "interesting = budgets[['title', 'genres','release_date','credits']]"
   ]
  },
  {
   "cell_type": "code",
   "execution_count": null,
   "metadata": {},
   "outputs": [],
   "source": [
    "dropper = list(budgets.columns)"
   ]
  },
  {
   "cell_type": "code",
   "execution_count": null,
   "metadata": {},
   "outputs": [],
   "source": [
    "dropper.remove('title')"
   ]
  },
  {
   "cell_type": "code",
   "execution_count": null,
   "metadata": {},
   "outputs": [],
   "source": [
    "dropper.remove('genres')"
   ]
  },
  {
   "cell_type": "code",
   "execution_count": null,
   "metadata": {},
   "outputs": [],
   "source": [
    "dropper.remove('release_date')"
   ]
  },
  {
   "cell_type": "code",
   "execution_count": null,
   "metadata": {},
   "outputs": [],
   "source": [
    "dropper.remove('credits')"
   ]
  },
  {
   "cell_type": "code",
   "execution_count": null,
   "metadata": {},
   "outputs": [],
   "source": []
  },
  {
   "cell_type": "code",
   "execution_count": null,
   "metadata": {},
   "outputs": [],
   "source": [
    "interesting = budgets.drop(dropper,axis=1)"
   ]
  },
  {
   "cell_type": "code",
   "execution_count": null,
   "metadata": {},
   "outputs": [],
   "source": [
    "interesting['movie (year)'] = interesting['title'].astype(str) + \" (\" + interesting['release_date'].astype(str).str[0:4] + \")\"\n",
    "interesting2 = interesting.dropna().drop_duplicates()"
   ]
  },
  {
   "cell_type": "code",
   "execution_count": null,
   "metadata": {},
   "outputs": [],
   "source": [
    "interesting3 = interesting2[interesting2['movie (year)'].isin(test5['movie (year)'])]"
   ]
  },
  {
   "cell_type": "code",
   "execution_count": null,
   "metadata": {},
   "outputs": [],
   "source": [
    "interesting3.head(60)"
   ]
  },
  {
   "cell_type": "code",
   "execution_count": null,
   "metadata": {},
   "outputs": [],
   "source": [
    "interesting3[\"genre_split\"] = interesting3['genres'].str.split(\"-\")"
   ]
  },
  {
   "cell_type": "code",
   "execution_count": null,
   "metadata": {},
   "outputs": [],
   "source": [
    "interesting4 = interesting3.explode(\"genre_split\")"
   ]
  },
  {
   "cell_type": "code",
   "execution_count": null,
   "metadata": {},
   "outputs": [],
   "source": [
    "interesting4"
   ]
  },
  {
   "cell_type": "code",
   "execution_count": null,
   "metadata": {},
   "outputs": [],
   "source": [
    "#split in string of column"
   ]
  },
  {
   "cell_type": "code",
   "execution_count": null,
   "metadata": {},
   "outputs": [],
   "source": [
    "newprincipals = pd.read_csv(\"zippedData/title.principals.tsv.gz\", delimiter='\\t' )"
   ]
  },
  {
   "cell_type": "code",
   "execution_count": null,
   "metadata": {},
   "outputs": [],
   "source": [
    "pd.read_csv(\"zippedData/title.principals.tsv.gz\", delimiter='\\t' )"
   ]
  },
  {
   "cell_type": "code",
   "execution_count": null,
   "metadata": {},
   "outputs": [],
   "source": [
    "newtitles = pd.read_csv(\"zippedData/title.basics.tsv.gz\", delimiter='\\t' )"
   ]
  },
  {
   "cell_type": "code",
   "execution_count": null,
   "metadata": {},
   "outputs": [],
   "source": [
    "movietitles = newtitles[newtitles['titleType'] == 'movie']"
   ]
  },
  {
   "cell_type": "code",
   "execution_count": null,
   "metadata": {},
   "outputs": [],
   "source": [
    "movietitles.drop([\"isAdult\",\"endYear\",'runtimeMinutes'],axis=1,inplace = True)"
   ]
  },
  {
   "cell_type": "code",
   "execution_count": null,
   "metadata": {},
   "outputs": [],
   "source": [
    "movietitles = movietitles[movietitles.startYear != '\\\\N']"
   ]
  },
  {
   "cell_type": "code",
   "execution_count": null,
   "metadata": {},
   "outputs": [],
   "source": [
    "movietitles = movietitles[movietitles['startYear'].astype(int) > 1998]"
   ]
  },
  {
   "cell_type": "code",
   "execution_count": null,
   "metadata": {},
   "outputs": [],
   "source": [
    "movietitles['movie (year)'] = movietitles['primaryTitle'].astype(str) + \" (\" + movietitles['startYear'].astype(str) + \")\"\n",
    "movietitles = movietitles.dropna().drop_duplicates()\n",
    "movietitles.head(50)"
   ]
  },
  {
   "cell_type": "code",
   "execution_count": null,
   "metadata": {},
   "outputs": [],
   "source": [
    "movietitles.drop([\"titleType\",\"primaryTitle\",'originalTitle'],axis=1, inplace=True)"
   ]
  },
  {
   "cell_type": "code",
   "execution_count": null,
   "metadata": {},
   "outputs": [],
   "source": [
    "moviekey = movietitles.set_index('tconst')\n",
    "moviekey"
   ]
  },
  {
   "cell_type": "code",
   "execution_count": null,
   "metadata": {},
   "outputs": [],
   "source": [
    "newprincipals"
   ]
  },
  {
   "cell_type": "code",
   "execution_count": null,
   "metadata": {},
   "outputs": [],
   "source": [
    "newprincipals['movie (year)'] = newprincipals['tconst'].map(moviekey['movie (year)'])\n",
    "newprincipals"
   ]
  },
  {
   "cell_type": "code",
   "execution_count": null,
   "metadata": {},
   "outputs": [],
   "source": [
    "newprincipals['movi"
   ]
  },
  {
   "cell_type": "code",
   "execution_count": null,
   "metadata": {},
   "outputs": [],
   "source": [
    "newprincipals['movie (year)'].value_counts()"
   ]
  },
  {
   "cell_type": "code",
   "execution_count": null,
   "metadata": {},
   "outputs": [],
   "source": [
    "topprincipals = newprincipals[newprincipals['movie (year)'].isin(test5['movie (year)'])]"
   ]
  },
  {
   "cell_type": "code",
   "execution_count": null,
   "metadata": {},
   "outputs": [],
   "source": [
    "topprincipals['movie (year)'].value_counts()"
   ]
  },
  {
   "cell_type": "code",
   "execution_count": null,
   "metadata": {},
   "outputs": [],
   "source": [
    "#this may be interesting... the principals table only shows 10 principals per movie, so the max value of value_counts should be 10 for any movie\n",
    "#this shows there are duplicate named movies! More investigation required on those 4 movies!"
   ]
  },
  {
   "cell_type": "code",
   "execution_count": null,
   "metadata": {},
   "outputs": [],
   "source": [
    "topprincipals[topprincipals['movie (year)'].isin(\n",
    "    ['Cinderella (2015)','Coco (2017)', 'Alice in Wonderland (2010)','Beauty and the Beast (2017)'])].tail(60)\n",
    "#we see here that tconst tt5089556 is a duplicate bollywood  cinderella movie, DELETE\n",
    "#tt11861230 is an imposter of B&B\n",
    "#tt2049386 is an imposter of Alice\n",
    "#tt7002100 is an imposter of Coco"
   ]
  },
  {
   "cell_type": "code",
   "execution_count": null,
   "metadata": {},
   "outputs": [],
   "source": [
    "imposters = ['tt5089556' , 'tt11861230' ,'tt2049386' , 'tt7002100']"
   ]
  },
  {
   "cell_type": "code",
   "execution_count": null,
   "metadata": {},
   "outputs": [],
   "source": [
    "topprincipals[topprincipals['tconst'].isin(imposters) == False]['movie (year)'].value_counts()\n",
    "#this worked cleaning and removing imposters!"
   ]
  },
  {
   "cell_type": "code",
   "execution_count": null,
   "metadata": {},
   "outputs": [],
   "source": []
  },
  {
   "cell_type": "code",
   "execution_count": null,
   "metadata": {},
   "outputs": [],
   "source": [
    "newnames = pd.read_csv(\"zippedData/name.basics.tsv.gz\", delimiter='\\t' )"
   ]
  },
  {
   "cell_type": "code",
   "execution_count": null,
   "metadata": {},
   "outputs": [],
   "source": [
    "newnames.head()"
   ]
  },
  {
   "cell_type": "code",
   "execution_count": null,
   "metadata": {},
   "outputs": [],
   "source": [
    "newnames.drop_duplicates()"
   ]
  },
  {
   "cell_type": "code",
   "execution_count": null,
   "metadata": {},
   "outputs": [],
   "source": [
    "namekey = newnames.set_index('nconst')"
   ]
  },
  {
   "cell_type": "code",
   "execution_count": null,
   "metadata": {},
   "outputs": [],
   "source": [
    "namekey"
   ]
  },
  {
   "cell_type": "code",
   "execution_count": null,
   "metadata": {},
   "outputs": [],
   "source": [
    "newnames[newnames['nconst'] == 'nm0000158']"
   ]
  },
  {
   "cell_type": "code",
   "execution_count": null,
   "metadata": {},
   "outputs": [],
   "source": [
    "topprincipals['primary_name'] = topprincipals['nconst'].map(namekey['primaryName'])\n",
    "topprincipals"
   ]
  },
  {
   "cell_type": "code",
   "execution_count": null,
   "metadata": {},
   "outputs": [],
   "source": [
    "topprincipals['primary_name'].value_counts().head(50)"
   ]
  },
  {
   "cell_type": "code",
   "execution_count": null,
   "metadata": {},
   "outputs": [],
   "source": [
    "top2principals = topprincipals[topprincipals['ordering'] < 3]"
   ]
  },
  {
   "cell_type": "code",
   "execution_count": null,
   "metadata": {},
   "outputs": [],
   "source": [
    "top1principals = topprincipals[topprincipals['ordering'] < 2]"
   ]
  },
  {
   "cell_type": "code",
   "execution_count": null,
   "metadata": {},
   "outputs": [],
   "source": [
    "top1principals['primary_name'].value_counts().head(50)"
   ]
  },
  {
   "cell_type": "code",
   "execution_count": null,
   "metadata": {},
   "outputs": [],
   "source": [
    "topprincipals[topprincipals['primary_name'] == 'Mike Myers']"
   ]
  },
  {
   "cell_type": "code",
   "execution_count": null,
   "metadata": {},
   "outputs": [],
   "source": [
    "test5[test5['movie (year)'].str.contains(\"Austin\")]"
   ]
  },
  {
   "cell_type": "code",
   "execution_count": null,
   "metadata": {},
   "outputs": [],
   "source": [
    "top1principals.head(50)"
   ]
  },
  {
   "cell_type": "code",
   "execution_count": null,
   "metadata": {},
   "outputs": [],
   "source": [
    "top2principals.head(50)"
   ]
  },
  {
   "cell_type": "code",
   "execution_count": null,
   "metadata": {},
   "outputs": [],
   "source": [
    "newcrew = pd.read_csv(\"zippedData/title.crew.tsv.gz\", delimiter='\\t' )"
   ]
  },
  {
   "cell_type": "code",
   "execution_count": null,
   "metadata": {},
   "outputs": [],
   "source": [
    "newcrew.info()"
   ]
  },
  {
   "cell_type": "code",
   "execution_count": null,
   "metadata": {},
   "outputs": [],
   "source": [
    "newcrew[\"director_split\"] = newcrew['directors'].str.split(\",\")\n",
    "newcrew2 = newcrew.explode(\"director_split\")"
   ]
  },
  {
   "cell_type": "code",
   "execution_count": null,
   "metadata": {},
   "outputs": [],
   "source": [
    "directorkey = newcrew2[[\"tconst\",\"director_split\"]]"
   ]
  },
  {
   "cell_type": "code",
   "execution_count": null,
   "metadata": {},
   "outputs": [],
   "source": [
    "directorkey"
   ]
  },
  {
   "cell_type": "code",
   "execution_count": null,
   "metadata": {},
   "outputs": [],
   "source": [
    "directorkey['movie (year)'] = directorkey['tconst'].map(moviekey['movie (year)'])\n",
    "#directorkey['director'] = directorkey['nconst'].map(namekey['primaryName'])"
   ]
  },
  {
   "cell_type": "code",
   "execution_count": null,
   "metadata": {},
   "outputs": [],
   "source": [
    "directorkey.loc[directorkey['movie (year)'] == 'Ted Bundy Had a Son (2022)']"
   ]
  },
  {
   "cell_type": "code",
   "execution_count": null,
   "metadata": {},
   "outputs": [],
   "source": [
    "namekey"
   ]
  },
  {
   "cell_type": "code",
   "execution_count": null,
   "metadata": {},
   "outputs": [],
   "source": [
    "directorkey['director'] = directorkey['director_split'].map(namekey['primaryName'])"
   ]
  },
  {
   "cell_type": "code",
   "execution_count": null,
   "metadata": {},
   "outputs": [],
   "source": [
    "directorkey[directorkey['tconst'] == 'tt11861230']"
   ]
  },
  {
   "cell_type": "code",
   "execution_count": null,
   "metadata": {},
   "outputs": [],
   "source": [
    "topdirectors = directorkey[directorkey['movie (year)'].isin(test5['movie (year)'])]"
   ]
  },
  {
   "cell_type": "code",
   "execution_count": null,
   "metadata": {},
   "outputs": [],
   "source": [
    "topdirectors['movie (year)'].value_counts()"
   ]
  },
  {
   "cell_type": "code",
   "execution_count": null,
   "metadata": {},
   "outputs": [],
   "source": [
    "topdirectors['director'].isnull().sum()"
   ]
  },
  {
   "cell_type": "code",
   "execution_count": null,
   "metadata": {},
   "outputs": [],
   "source": [
    "topdirectors"
   ]
  },
  {
   "cell_type": "code",
   "execution_count": null,
   "metadata": {},
   "outputs": [],
   "source": [
    "topdirectors[topdirectors['director'].isnull()]"
   ]
  },
  {
   "cell_type": "code",
   "execution_count": null,
   "metadata": {},
   "outputs": [],
   "source": [
    "topdirectors.loc[2005836]"
   ]
  },
  {
   "cell_type": "code",
   "execution_count": null,
   "metadata": {},
   "outputs": [],
   "source": [
    "topdirectors.head(60)"
   ]
  },
  {
   "cell_type": "code",
   "execution_count": null,
   "metadata": {},
   "outputs": [],
   "source": [
    "topprincipals[topprincipals['category'] == 'director']['movie (year)'].value_counts()"
   ]
  },
  {
   "cell_type": "code",
   "execution_count": null,
   "metadata": {},
   "outputs": [],
   "source": [
    "topdirectors['director'].value_counts().head(60)"
   ]
  },
  {
   "cell_type": "code",
   "execution_count": null,
   "metadata": {},
   "outputs": [],
   "source": [
    "topdirectors['movie (year)'].value_counts()"
   ]
  },
  {
   "cell_type": "code",
   "execution_count": null,
   "metadata": {},
   "outputs": [],
   "source": [
    "topprincipals.loc[topprincipals[''].duplicated()].head(60)\n",
    "#important, this is how you find who is a co-director vs main director\n",
    "#nope not here"
   ]
  },
  {
   "cell_type": "code",
   "execution_count": null,
   "metadata": {},
   "outputs": [],
   "source": [
    "topdirectors.loc[topdirectors['movie (year)'].duplicated(keep=False)].head(60)"
   ]
  },
  {
   "cell_type": "code",
   "execution_count": null,
   "metadata": {},
   "outputs": [],
   "source": [
    "topprincipals[topprincipals['ordering']==5]\n",
    "#wow this is where I discovered ordering number 5 is always main director"
   ]
  },
  {
   "cell_type": "code",
   "execution_count": null,
   "metadata": {},
   "outputs": [],
   "source": [
    "topprincipals[topprincipals['ordering']==5]['category'].value_counts()"
   ]
  },
  {
   "cell_type": "code",
   "execution_count": null,
   "metadata": {},
   "outputs": [],
   "source": []
  },
  {
   "cell_type": "code",
   "execution_count": null,
   "metadata": {},
   "outputs": [],
   "source": [
    "maindirectors = topprincipals[topprincipals['ordering']==5]"
   ]
  },
  {
   "cell_type": "code",
   "execution_count": null,
   "metadata": {},
   "outputs": [],
   "source": [
    "maindirectors[maindirectors['movie (year)'].duplicated(keep=False)]\n",
    "#found errors in data"
   ]
  },
  {
   "cell_type": "code",
   "execution_count": null,
   "metadata": {},
   "outputs": [],
   "source": [
    "topprincipals[topprincipals['movie (year)'] == 'Cinderella (2015)']\n",
    "#found that tconst tt5089556 is indian version of Cinderella (2015). DROP IT"
   ]
  },
  {
   "cell_type": "code",
   "execution_count": null,
   "metadata": {},
   "outputs": [],
   "source": [
    "cleantopprincipals = topprincipals[topprincipals['tconst'].isin(imposters) == False]"
   ]
  },
  {
   "cell_type": "code",
   "execution_count": null,
   "metadata": {},
   "outputs": [],
   "source": [
    "cleantopprincipals[cleantopprincipals['ordering']==5]"
   ]
  },
  {
   "cell_type": "code",
   "execution_count": null,
   "metadata": {},
   "outputs": [],
   "source": [
    "maindirectors = cleantopprincipals[cleantopprincipals['ordering']==5]"
   ]
  },
  {
   "cell_type": "code",
   "execution_count": null,
   "metadata": {},
   "outputs": [],
   "source": [
    "maindirectors.duplicated().sum()"
   ]
  },
  {
   "cell_type": "code",
   "execution_count": null,
   "metadata": {},
   "outputs": [],
   "source": [
    "maindirectors['movie (year)'].value_counts()"
   ]
  },
  {
   "cell_type": "code",
   "execution_count": null,
   "metadata": {},
   "outputs": [],
   "source": [
    "maindirectors[maindirectors['category'] != 'director']\n",
    "#found problem where movies have directors who also acted in the movie!"
   ]
  },
  {
   "cell_type": "code",
   "execution_count": null,
   "metadata": {},
   "outputs": [],
   "source": []
  },
  {
   "cell_type": "code",
   "execution_count": null,
   "metadata": {},
   "outputs": [],
   "source": [
    "cleantopprincipals[cleantopprincipals['ordering']==5]['category'].value_counts()"
   ]
  },
  {
   "cell_type": "code",
   "execution_count": null,
   "metadata": {},
   "outputs": [],
   "source": [
    "cleantopprincipals[cleantopprincipals['movie (year)']=='Top Gun: Maverick (2022)']"
   ]
  },
  {
   "cell_type": "code",
   "execution_count": null,
   "metadata": {},
   "outputs": [],
   "source": [
    "onlymaindirectors = maindirectors[maindirectors['category'] == 'director']"
   ]
  },
  {
   "cell_type": "code",
   "execution_count": null,
   "metadata": {},
   "outputs": [],
   "source": [
    "onlymaindirectors['primary_name'].value_counts()"
   ]
  },
  {
   "cell_type": "code",
   "execution_count": null,
   "metadata": {},
   "outputs": [],
   "source": [
    "onlymaindirectors['movie (year)'].value_counts()"
   ]
  },
  {
   "cell_type": "code",
   "execution_count": null,
   "metadata": {},
   "outputs": [],
   "source": [
    "cleantopprincipals.head(60)"
   ]
  },
  {
   "cell_type": "code",
   "execution_count": null,
   "metadata": {},
   "outputs": [],
   "source": [
    "cleantopprincipals[cleantopprincipals['ordering']==7]['category'].value_counts()"
   ]
  },
  {
   "cell_type": "code",
   "execution_count": null,
   "metadata": {},
   "outputs": [],
   "source": [
    "cleantopprincipals[cleantopprincipals['ordering']==9]['category'].value_counts()"
   ]
  },
  {
   "cell_type": "code",
   "execution_count": null,
   "metadata": {},
   "outputs": [],
   "source": [
    "mainwriters = cleantopprincipals[cleantopprincipals['ordering'].isin([6,7])]"
   ]
  },
  {
   "cell_type": "code",
   "execution_count": null,
   "metadata": {},
   "outputs": [],
   "source": [
    "onlymainwriters = mainwriters[mainwriters['category'] == 'writer']"
   ]
  },
  {
   "cell_type": "code",
   "execution_count": null,
   "metadata": {},
   "outputs": [],
   "source": [
    "onlymainwriters['primary_name'].value_counts()"
   ]
  },
  {
   "cell_type": "code",
   "execution_count": null,
   "metadata": {},
   "outputs": [],
   "source": [
    "onlymainwriters['movie (year)'].value_counts()"
   ]
  },
  {
   "cell_type": "code",
   "execution_count": null,
   "metadata": {},
   "outputs": [],
   "source": [
    "onlymainwriters.head(60)"
   ]
  },
  {
   "cell_type": "code",
   "execution_count": null,
   "metadata": {},
   "outputs": [],
   "source": [
    "onlymainwriters.drop_duplicates(subset='movie (year)', keep='first', inplace=True )"
   ]
  },
  {
   "cell_type": "code",
   "execution_count": null,
   "metadata": {},
   "outputs": [],
   "source": [
    "onlymainwriters['movie (year)'].value_counts()"
   ]
  },
  {
   "cell_type": "code",
   "execution_count": null,
   "metadata": {},
   "outputs": [],
   "source": [
    "onlymainwriters['primary_name'].value_counts()"
   ]
  },
  {
   "cell_type": "code",
   "execution_count": null,
   "metadata": {},
   "outputs": [],
   "source": [
    "top3principals = cleantopprincipals[cleantopprincipals['ordering'] < 4]"
   ]
  },
  {
   "cell_type": "code",
   "execution_count": null,
   "metadata": {},
   "outputs": [],
   "source": [
    "top3males = top3principals[top3principals['category'] == 'actor']"
   ]
  },
  {
   "cell_type": "code",
   "execution_count": null,
   "metadata": {},
   "outputs": [],
   "source": [
    "top3females = top3principals[top3principals['category'] == 'actress']"
   ]
  },
  {
   "cell_type": "code",
   "execution_count": null,
   "metadata": {},
   "outputs": [],
   "source": [
    "top3males['movie (year)'].value_counts()"
   ]
  },
  {
   "cell_type": "code",
   "execution_count": null,
   "metadata": {},
   "outputs": [],
   "source": [
    "top3females['movie (year)'].value_counts()"
   ]
  },
  {
   "cell_type": "code",
   "execution_count": null,
   "metadata": {},
   "outputs": [],
   "source": [
    "top3principals['category'].value_counts()"
   ]
  },
  {
   "cell_type": "code",
   "execution_count": null,
   "metadata": {},
   "outputs": [],
   "source": [
    "top2males['primary_name'].value_counts().head(60)"
   ]
  },
  {
   "cell_type": "code",
   "execution_count": null,
   "metadata": {},
   "outputs": [],
   "source": [
    "toplead = cleantopprincipals[cleantopprincipals['ordering'] < 2]"
   ]
  },
  {
   "cell_type": "code",
   "execution_count": null,
   "metadata": {},
   "outputs": [],
   "source": [
    "topmale = toplead[toplead['category'] == 'actor']"
   ]
  },
  {
   "cell_type": "code",
   "execution_count": null,
   "metadata": {},
   "outputs": [],
   "source": [
    "topfemale = toplead[toplead['category'] == 'actress']"
   ]
  },
  {
   "cell_type": "code",
   "execution_count": null,
   "metadata": {},
   "outputs": [],
   "source": [
    "topmale['primary_name'].value_counts().head(60)"
   ]
  },
  {
   "cell_type": "code",
   "execution_count": null,
   "metadata": {},
   "outputs": [],
   "source": [
    "topfemale['primary_name'].value_counts()"
   ]
  },
  {
   "cell_type": "code",
   "execution_count": null,
   "metadata": {},
   "outputs": [],
   "source": [
    "topfemale['movie (year)'].value_counts()"
   ]
  },
  {
   "cell_type": "code",
   "execution_count": null,
   "metadata": {},
   "outputs": [],
   "source": [
    "top4females"
   ]
  },
  {
   "cell_type": "code",
   "execution_count": null,
   "metadata": {},
   "outputs": [],
   "source": [
    "top4females.drop_duplicates(subset='movie (year)', keep='first', inplace=True )"
   ]
  },
  {
   "cell_type": "code",
   "execution_count": null,
   "metadata": {},
   "outputs": [],
   "source": [
    "top4females['movie (year)'].value_counts()"
   ]
  },
  {
   "cell_type": "code",
   "execution_count": null,
   "metadata": {},
   "outputs": [],
   "source": [
    "top4males['movie (year)'].value_counts()"
   ]
  },
  {
   "cell_type": "code",
   "execution_count": null,
   "metadata": {},
   "outputs": [],
   "source": [
    "top4males.drop_duplicates(subset='movie (year)', keep='first', inplace=True )"
   ]
  },
  {
   "cell_type": "code",
   "execution_count": null,
   "metadata": {},
   "outputs": [],
   "source": [
    "top4males['primary_name'].value_counts()"
   ]
  },
  {
   "cell_type": "code",
   "execution_count": null,
   "metadata": {},
   "outputs": [],
   "source": [
    "top4females['primary_name'].value_counts()"
   ]
  },
  {
   "cell_type": "code",
   "execution_count": null,
   "metadata": {},
   "outputs": [],
   "source": [
    "%whos"
   ]
  },
  {
   "cell_type": "code",
   "execution_count": null,
   "metadata": {},
   "outputs": [],
   "source": [
    "test5"
   ]
  },
  {
   "cell_type": "code",
   "execution_count": null,
   "metadata": {},
   "outputs": [],
   "source": [
    "omdmerge = onlymaindirectors[[\"movie (year)\",\"primary_name\"]]"
   ]
  },
  {
   "cell_type": "code",
   "execution_count": null,
   "metadata": {},
   "outputs": [],
   "source": [
    "omdmerge.rename(columns ={'primary_name':'director'}, inplace = True)\n"
   ]
  },
  {
   "cell_type": "code",
   "execution_count": null,
   "metadata": {},
   "outputs": [],
   "source": [
    "omdmerge.set_index('movie (year)')"
   ]
  },
  {
   "cell_type": "code",
   "execution_count": null,
   "metadata": {},
   "outputs": [],
   "source": [
    "test6 = pd.merge(test5, omdmerge, on ='movie (year)',how ='left')"
   ]
  },
  {
   "cell_type": "code",
   "execution_count": null,
   "metadata": {},
   "outputs": [],
   "source": [
    "test6.groupby('director').mean().sort_values(by = 'Total Box Office ($, Millions)',ascending=False).head(5)"
   ]
  },
  {
   "cell_type": "code",
   "execution_count": null,
   "metadata": {},
   "outputs": [],
   "source": [
    "omwmerge = onlymainwriters[[\"movie (year)\",\"primary_name\"]]\n",
    "omwmerge.rename(columns ={'primary_name':'writer'}, inplace = True)\n",
    "omwmerge.set_index('movie (year)')"
   ]
  },
  {
   "cell_type": "code",
   "execution_count": null,
   "metadata": {},
   "outputs": [],
   "source": []
  },
  {
   "cell_type": "code",
   "execution_count": null,
   "metadata": {},
   "outputs": [],
   "source": [
    "test7 = pd.merge(test6, omwmerge, on ='movie (year)',how ='left')"
   ]
  },
  {
   "cell_type": "code",
   "execution_count": null,
   "metadata": {},
   "outputs": [],
   "source": [
    "test7.groupby('writer').mean().sort_values(by = 'Total Box Office ($, Millions)',ascending=False).head(5)"
   ]
  },
  {
   "cell_type": "code",
   "execution_count": null,
   "metadata": {},
   "outputs": [],
   "source": [
    "malemerge = top4males[[\"movie (year)\",\"primary_name\"]]\n",
    "malemerge.rename(columns ={'primary_name':'lead actor'}, inplace = True)\n",
    "malemerge.set_index('movie (year)')"
   ]
  },
  {
   "cell_type": "code",
   "execution_count": null,
   "metadata": {},
   "outputs": [],
   "source": [
    "femalemerge = top4females[[\"movie (year)\",\"primary_name\"]]\n",
    "femalemerge.rename(columns ={'primary_name':'lead actress'}, inplace = True)\n",
    "femalemerge.set_index('movie (year)')"
   ]
  },
  {
   "cell_type": "code",
   "execution_count": null,
   "metadata": {},
   "outputs": [],
   "source": [
    "test8 = pd.merge(test7, malemerge, on ='movie (year)',how ='left')"
   ]
  },
  {
   "cell_type": "code",
   "execution_count": null,
   "metadata": {},
   "outputs": [],
   "source": [
    "test9 = pd.merge(test8, femalemerge, on ='movie (year)',how ='left')"
   ]
  },
  {
   "cell_type": "code",
   "execution_count": null,
   "metadata": {},
   "outputs": [],
   "source": [
    "test9.loc[test9['lead actor'] == 'Leonardo DiCaprio']"
   ]
  },
  {
   "cell_type": "code",
   "execution_count": null,
   "metadata": {},
   "outputs": [],
   "source": [
    "test9.groupby('lead actor').mean().sort_values(by = 'Profit/Loss ($, Millions)',ascending=False).head(50)"
   ]
  },
  {
   "cell_type": "code",
   "execution_count": null,
   "metadata": {},
   "outputs": [],
   "source": [
    "test9.groupby('lead actor').mean().sort_values(by = 'RoI (%)',ascending=False).head(50)"
   ]
  },
  {
   "cell_type": "code",
   "execution_count": null,
   "metadata": {},
   "outputs": [],
   "source": [
    "test9['lead actor'].value_counts()"
   ]
  },
  {
   "cell_type": "code",
   "execution_count": null,
   "metadata": {},
   "outputs": [],
   "source": [
    "test9['lead actress'].value_counts().head(25)"
   ]
  },
  {
   "cell_type": "code",
   "execution_count": null,
   "metadata": {},
   "outputs": [],
   "source": [
    "test9[test9['lead actor'] == 'Tom Cruise']"
   ]
  },
  {
   "cell_type": "code",
   "execution_count": null,
   "metadata": {},
   "outputs": [],
   "source": [
    "test9.describe()"
   ]
  },
  {
   "cell_type": "code",
   "execution_count": null,
   "metadata": {},
   "outputs": [],
   "source": [
    "test9[test9[\"movie (year)\"] == 'Crouching Tiger, Hidden Dragon (2000)']"
   ]
  },
  {
   "cell_type": "code",
   "execution_count": null,
   "metadata": {},
   "outputs": [],
   "source": [
    "interesting4[['movie (year)','genre_split']]"
   ]
  },
  {
   "cell_type": "code",
   "execution_count": null,
   "metadata": {},
   "outputs": [],
   "source": [
    "interesting3"
   ]
  },
  {
   "cell_type": "code",
   "execution_count": null,
   "metadata": {},
   "outputs": [],
   "source": [
    "genremerge = interesting3[[\"movie (year)\",\"genre_split\"]]\n",
    "genremerge.set_index('movie (year)')\n",
    "genremerge"
   ]
  },
  {
   "cell_type": "code",
   "execution_count": null,
   "metadata": {},
   "outputs": [],
   "source": [
    "testgenre = pd.merge(test5, genremerge, on ='movie (year)',how ='left')\n",
    "testgenre"
   ]
  },
  {
   "cell_type": "code",
   "execution_count": null,
   "metadata": {},
   "outputs": [],
   "source": [
    "testgenre2 = testgenre.explode(\"genre_split\")\n",
    "testgenre2"
   ]
  },
  {
   "cell_type": "code",
   "execution_count": null,
   "metadata": {},
   "outputs": [],
   "source": [
    "testgenre2['genre_split'].value_counts()"
   ]
  },
  {
   "cell_type": "code",
   "execution_count": null,
   "metadata": {},
   "outputs": [],
   "source": [
    "genrecountdata"
   ]
  },
  {
   "cell_type": "code",
   "execution_count": null,
   "metadata": {},
   "outputs": [],
   "source": [
    "plt.figure(figsize=(18,20))\n",
    "# Draw the seaborn barplot\n",
    "sns.countplot(y='genre_split', data=testgenre2 )\n",
    "# Set the barplot's title.\n",
    "plt.title('Genre Counts of Top Movie Pool')\n",
    "# Label the y-axis\n",
    "plt.ylabel('Genre')\n",
    "# Label the x-axis\n",
    "plt.xlabel('Count')"
   ]
  },
  {
   "cell_type": "code",
   "execution_count": null,
   "metadata": {},
   "outputs": [],
   "source": [
    "testgenre2.groupby('genre_split').mean().sort_values(by = 'Profit/Loss ($, Millions)',ascending=False)"
   ]
  },
  {
   "cell_type": "code",
   "execution_count": null,
   "metadata": {},
   "outputs": [],
   "source": [
    "testgenre2.groupby('genre_split').mean().sort_values(by = 'RoI (%)',ascending=False)"
   ]
  },
  {
   "cell_type": "code",
   "execution_count": null,
   "metadata": {},
   "outputs": [],
   "source": [
    "testgenre3 = testgenre2.groupby('genre_split').mean().sort_values(by = 'Profit/Loss ($, Millions)',ascending=False)"
   ]
  },
  {
   "cell_type": "code",
   "execution_count": null,
   "metadata": {},
   "outputs": [],
   "source": [
    "testgenre4 = testgenre3.reset_index()"
   ]
  },
  {
   "cell_type": "code",
   "execution_count": null,
   "metadata": {},
   "outputs": [],
   "source": [
    "testgenre5 = testgenre2.groupby('genre_split').mean().sort_values(by = 'RoI (%)',ascending=False).reset_index()"
   ]
  },
  {
   "cell_type": "code",
   "execution_count": null,
   "metadata": {},
   "outputs": [],
   "source": [
    "testgenre4"
   ]
  },
  {
   "cell_type": "code",
   "execution_count": null,
   "metadata": {},
   "outputs": [],
   "source": [
    "test5"
   ]
  },
  {
   "cell_type": "code",
   "execution_count": null,
   "metadata": {},
   "outputs": [],
   "source": [
    "# not needed dont use\n",
    "\n",
    "sns.set(style=\"whitegrid\")\n",
    "# Set the scale plot to be larger and easier to read.\n",
    "sns.set_context(\"talk\")\n",
    "# Create a plot and size it appropriately for information shown\n",
    "plt.figure(figsize=(15,12))\n",
    "# Draw the seaborn barplot\n",
    "sns.barplot(y = keys, x = values, alpha=0.8, palette=\"deep\")\n",
    "# Set the barplot's title.\n",
    "plt.title('Top 100 grossing films by Genre')\n",
    "# Label the y-axis\n",
    "plt.ylabel('Genre', fontsize=20)\n",
    "# Label the x-axis\n",
    "plt.xlabel('Count', fontsize=20)"
   ]
  },
  {
   "cell_type": "code",
   "execution_count": null,
   "metadata": {},
   "outputs": [],
   "source": [
    "# Create a plot and set the appropriate size\n",
    "plt.figure(figsize=(15, 12))\n",
    "# Draw a seaborn scatterplot based on worldwide gross and production budget,\n",
    "\n",
    "sns.scatterplot(x=test5['Budget ($, Millions)'],\n",
    "                y=test5['Total Box Office ($, Millions)'], alpha=0.6, palette='blues')\n",
    "\n",
    "#sns.regplot(x=test5['Budget ($, Millions)'], y=test5['Total Box Office ($, Millions)'], line_kws={\"color\":\"r\",\"alpha\":0.7})\n",
    "\n",
    "# Set title of plot\n",
    "plt.title('Box Office VS Production Budgets')\n",
    "# Set y-axis label and fontsize\n",
    "plt.ylabel('Total Box Office ($, Millions)')\n",
    "\n",
    "# Set x-axis label and fontsize\n",
    "plt.xlabel('Budget ($, Millions)')\n",
    "\n",
    "# Change x-axis ticks from scientific notation to integers\n",
    "#plt.ticklabel_format(style='plain', axis='x')\n",
    "# Change y-axis ticks from scientific notation to integers\n",
    "#plt.ticklabel_format(style='plain', axis='y')\n",
    "# Show the plot\n",
    "plt.show()"
   ]
  },
  {
   "cell_type": "code",
   "execution_count": null,
   "metadata": {},
   "outputs": [],
   "source": []
  },
  {
   "cell_type": "code",
   "execution_count": null,
   "metadata": {},
   "outputs": [],
   "source": [
    "# Create a plot and set the appropriate size\n",
    "plt.figure(figsize=(15, 12))\n",
    "# Draw a seaborn scatterplot based on worldwide gross and production budget,\n",
    "\n",
    "sns.scatterplot(x=test5['Budget ($, Millions)'],\n",
    "                y=test5['RoI (%)'], alpha=0.6, palette='blues')\n",
    "# Set title of plot\n",
    "plt.title('RoI VS Production Budgets')\n",
    "# Set y-axis label and fontsize\n",
    "plt.ylabel('RoI (%)')\n",
    "\n",
    "# Set x-axis label and fontsize\n",
    "plt.xlabel('Budget ($, Millions)')\n",
    "\n",
    "# Change x-axis ticks from scientific notation to integers\n",
    "#plt.ticklabel_format(style='plain', axis='x')\n",
    "# Change y-axis ticks from scientific notation to integers\n",
    "#plt.ticklabel_format(style='plain', axis='y')\n",
    "# Show the plot\n",
    "plt.show()"
   ]
  },
  {
   "cell_type": "code",
   "execution_count": null,
   "metadata": {},
   "outputs": [],
   "source": [
    "# Create a plot and set the appropriate size\n",
    "plt.figure(figsize=(15, 12))\n",
    "# Draw a seaborn scatterplot based on worldwide gross and production budget,\n",
    "\n",
    "sns.scatterplot(x=test5['Budget ($, Millions)'],\n",
    "                y=test5['Profit/Loss ($, Millions)'], alpha=0.6, palette='blues')\n",
    "# Set title of plot\n",
    "plt.title('Profit/Loss VS Production Budgets')\n",
    "# Set y-axis label and fontsize\n",
    "plt.ylabel('Profit/Loss ($, Millions)')\n",
    "\n",
    "# Set x-axis label and fontsize\n",
    "plt.xlabel('Budget ($, Millions)')\n",
    "\n",
    "# Change x-axis ticks from scientific notation to integers\n",
    "#plt.ticklabel_format(style='plain', axis='x')\n",
    "# Change y-axis ticks from scientific notation to integers\n",
    "#plt.ticklabel_format(style='plain', axis='y')\n",
    "# Show the plot\n",
    "plt.show()"
   ]
  },
  {
   "cell_type": "code",
   "execution_count": null,
   "metadata": {},
   "outputs": [],
   "source": [
    "# Create a plot and set the appropriate size\n",
    "plt.figure(figsize=(15, 12))\n",
    "# Draw a seaborn scatterplot based on worldwide gross and production budget,\n",
    "\n",
    "sns.histplot(x=test5['Budget ($, Millions)'],\n",
    "                y=test5['Profit/Loss ($, Millions)'], alpha=0.6, palette='blues')\n",
    "# Set title of plot\n",
    "plt.title('Profit/Loss VS Production Budgets')\n",
    "# Set y-axis label and fontsize\n",
    "plt.ylabel('Profit/Loss ($, Millions)')\n",
    "\n",
    "# Set x-axis label and fontsize\n",
    "plt.xlabel('Budget ($, Millions)')\n",
    "\n",
    "# Change x-axis ticks from scientific notation to integers\n",
    "#plt.ticklabel_format(style='plain', axis='x')\n",
    "# Change y-axis ticks from scientific notation to integers\n",
    "#plt.ticklabel_format(style='plain', axis='y')\n",
    "# Show the plot\n",
    "plt.show()"
   ]
  },
  {
   "cell_type": "code",
   "execution_count": null,
   "metadata": {},
   "outputs": [],
   "source": [
    "# Create a plot and set the appropriate size\n",
    "plt.figure(figsize=(15, 12))\n",
    "# Draw a seaborn scatterplot based on worldwide gross and production budget,\n",
    "\n",
    "sns.scatterplot(x='Budget ($, Millions)',y='Profit/Loss ($, Millions)', data=testgenre4, hue='genre_split', s=150)\n",
    "# Set title of plot\n",
    "plt.title('Profit/Loss VS Production Budgets')\n",
    "# Set y-axis label and fontsize\n",
    "plt.ylabel('Profit/Loss ($, Millions)')\n",
    "\n",
    "# Set x-axis label and fontsize\n",
    "plt.xlabel('Budget ($, Millions)')\n",
    "\n",
    "# Change x-axis ticks from scientific notation to integers\n",
    "#plt.ticklabel_format(style='plain', axis='x')\n",
    "# Change y-axis ticks from scientific notation to integers\n",
    "#plt.ticklabel_format(style='plain', axis='y')\n",
    "# Show the plot\n",
    "plt.show()"
   ]
  },
  {
   "cell_type": "code",
   "execution_count": null,
   "metadata": {},
   "outputs": [],
   "source": [
    "# Create a plot and set the appropriate size\n",
    "plt.figure(figsize=(15, 12))\n",
    "# Draw a seaborn scatterplot based on worldwide gross and production budget,\n",
    "\n",
    "sns.scatterplot(x='Budget ($, Millions)',y='RoI (%)', data=testgenre5, hue='genre_split', s=150)\n",
    "# Set title of plot\n",
    "plt.title('RoI (%) VS Production Budgets')\n",
    "# Set y-axis label and fontsize\n",
    "plt.ylabel('RoI (%)')\n",
    "\n",
    "# Set x-axis label and fontsize\n",
    "plt.xlabel('Budget ($, Millions)')\n",
    "\n",
    "# Change x-axis ticks from scientific notation to integers\n",
    "#plt.ticklabel_format(style='plain', axis='x')\n",
    "# Change y-axis ticks from scientific notation to integers\n",
    "#plt.ticklabel_format(style='plain', axis='y')\n",
    "# Show the plot\n",
    "plt.show()"
   ]
  },
  {
   "cell_type": "code",
   "execution_count": null,
   "metadata": {},
   "outputs": [],
   "source": [
    "malemetrics = test9.groupby('lead actor').mean()"
   ]
  },
  {
   "cell_type": "code",
   "execution_count": null,
   "metadata": {},
   "outputs": [],
   "source": [
    "malemetrics.loc['Tom Cruise']"
   ]
  },
  {
   "cell_type": "code",
   "execution_count": null,
   "metadata": {},
   "outputs": [],
   "source": [
    "top10maleVC = test9['lead actor'].value_counts().head(14)"
   ]
  },
  {
   "cell_type": "code",
   "execution_count": null,
   "metadata": {},
   "outputs": [],
   "source": [
    "top10maleVClist = top10maleVC.index.tolist()"
   ]
  },
  {
   "cell_type": "code",
   "execution_count": null,
   "metadata": {},
   "outputs": [],
   "source": [
    "malemetrics.loc[top10maleVClist]"
   ]
  },
  {
   "cell_type": "code",
   "execution_count": null,
   "metadata": {},
   "outputs": [],
   "source": [
    "maledata = malemetrics.loc[top10maleVClist].reset_index()"
   ]
  },
  {
   "cell_type": "code",
   "execution_count": null,
   "metadata": {},
   "outputs": [],
   "source": [
    "# Create a plot and set the appropriate size\n",
    "plt.figure(figsize=(15, 12))\n",
    "# Draw a seaborn scatterplot based on worldwide gross and production budget,\n",
    "\n",
    "sns.scatterplot(y='Profit/Loss ($, Millions)',x='RoI (%)', data=maledata, hue='lead actor', s=150)\n",
    "# Set title of plot\n",
    "plt.title('RoI (%) Profit/Loss ($, Millions)')\n",
    "# Set y-axis label and fontsize\n",
    "plt.ylabel('Profit/Loss ($, Millions)')\n",
    "\n",
    "# Set x-axis label and fontsize\n",
    "plt.xlabel('RoI (%)')\n",
    "\n",
    "# Change x-axis ticks from scientific notation to integers\n",
    "#plt.ticklabel_format(style='plain', axis='x')\n",
    "# Change y-axis ticks from scientific notation to integers\n",
    "#plt.ticklabel_format(style='plain', axis='y')\n",
    "# Show the plot\n",
    "plt.show()"
   ]
  },
  {
   "cell_type": "code",
   "execution_count": null,
   "metadata": {},
   "outputs": [],
   "source": [
    "# Create a plot and define its size.\n",
    "plt.figure(figsize=(20, 12))\n",
    "# Draw a boxplot showing the runtime minute distributions among the ranges of\n",
    "# production budget.\n",
    "sns.boxplot(x='lead actor',\n",
    "            y='Profit/Loss ($, Millions)',data=maleboxdata)\n",
    "# Set the plot title\n",
    "plt.title('Distribution of Profit by Lead Actor')\n",
    "# Set the x-axis Label and define fontsize\n",
    "plt.xlabel('Lead Actor')\n",
    "# Set the y-axis label and define fontsize\n",
    "plt.ylabel('Profit/Loss ($, Millions)')\n",
    "\n",
    "# Show plot\n",
    "plt.show()"
   ]
  },
  {
   "cell_type": "code",
   "execution_count": null,
   "metadata": {},
   "outputs": [],
   "source": [
    "maleboxdata = test9[test9['lead actor'].isin(top10maleVClist)]"
   ]
  },
  {
   "cell_type": "code",
   "execution_count": null,
   "metadata": {},
   "outputs": [],
   "source": [
    "maleboxdata"
   ]
  },
  {
   "cell_type": "code",
   "execution_count": null,
   "metadata": {},
   "outputs": [],
   "source": [
    "#take the top 10 recurring billed actresses from top movie pool\n",
    "top10femaleVC = test9['lead actress'].value_counts().head(10)\n",
    "\n",
    "#turn series into list\n",
    "top10femaleVClist = top10femaleVC.index.tolist()\n",
    "\n",
    "#create averages data for scatter plot\n",
    "femalemetrics = test9.groupby('lead actress').mean()\n",
    "femaledata = femalemetrics.loc[top10femaleVClist].reset_index()\n",
    "\n",
    "#create dataframe slice for boxplot\n",
    "femaleboxdata = test9[test9['lead actress'].isin(top10femaleVClist)]\n",
    "\n"
   ]
  },
  {
   "cell_type": "code",
   "execution_count": null,
   "metadata": {},
   "outputs": [],
   "source": [
    "# Create a plot and set the appropriate size\n",
    "plt.figure(figsize=(15, 12))\n",
    "# Draw a seaborn scatterplot based on worldwide gross and production budget,\n",
    "\n",
    "sns.scatterplot(y='Profit/Loss ($, Millions)',x='RoI (%)', data=femaledata, hue='lead actress', s=150)\n",
    "# Set title of plot\n",
    "plt.title('RoI (%) Profit/Loss ($, Millions)')\n",
    "# Set y-axis label and fontsize\n",
    "plt.ylabel('Profit/Loss ($, Millions)')\n",
    "\n",
    "# Set x-axis label and fontsize\n",
    "plt.xlabel('RoI (%)')\n",
    "\n",
    "# Change x-axis ticks from scientific notation to integers\n",
    "#plt.ticklabel_format(style='plain', axis='x')\n",
    "# Change y-axis ticks from scientific notation to integers\n",
    "#plt.ticklabel_format(style='plain', axis='y')\n",
    "# Show the plot\n",
    "plt.show()"
   ]
  },
  {
   "cell_type": "code",
   "execution_count": null,
   "metadata": {},
   "outputs": [],
   "source": [
    "# Create a plot and define its size.\n",
    "plt.figure(figsize=(15, 12))\n",
    "# Draw a boxplot showing the runtime minute distributions among the ranges of\n",
    "# production budget.\n",
    "sns.boxplot(x='lead actress',\n",
    "            y='Profit/Loss ($, Millions)',data=femaleboxdata)\n",
    "# Set the plot title\n",
    "plt.title('Distribution of Profit by Lead Actress')\n",
    "# Set the x-axis Label and define fontsize\n",
    "plt.xlabel('Lead Actress')\n",
    "# Set the y-axis label and define fontsize\n",
    "plt.ylabel('Profit/Loss ($, Millions)')\n",
    "\n",
    "# Show plot\n",
    "plt.show()"
   ]
  },
  {
   "cell_type": "code",
   "execution_count": null,
   "metadata": {},
   "outputs": [],
   "source": [
    "test9['director'].value_counts().head(40)"
   ]
  },
  {
   "cell_type": "code",
   "execution_count": null,
   "metadata": {},
   "outputs": [],
   "source": [
    "#take the top averaging directors from top movie pool\n",
    "#top10dirVC = test9['director'].value_counts().head(10)\n",
    "\n",
    "#turn series into list\n",
    "#top10dirVClist = top10dirVC.index.tolist()\n",
    "\n",
    "#create averages data for scatter plot, take top 10\n",
    "dirmetrics = test9.groupby('director').mean().sort_values(by = 'Profit/Loss ($, Millions)',ascending=False).head(10)\n",
    "dirdata = dirmetrics.reset_index()\n",
    "\n",
    "#take above top 10 series into list\n",
    "top10dirVClist = dirmetrics.index.tolist()\n",
    "\n",
    "#create dataframe slice for boxplot\n",
    "dirboxdata = test9[test9['director'].isin(top10dirVClist)]\n"
   ]
  },
  {
   "cell_type": "code",
   "execution_count": null,
   "metadata": {},
   "outputs": [],
   "source": [
    "# Create a plot and set the appropriate size\n",
    "plt.figure(figsize=(15, 12))\n",
    "# Draw a seaborn scatterplot based on worldwide gross and production budget,\n",
    "\n",
    "sns.scatterplot(y='Profit/Loss ($, Millions)',x='RoI (%)', data=dirdata, hue='director', s=150)\n",
    "# Set title of plot\n",
    "plt.title('RoI (%) Profit/Loss ($, Millions)')\n",
    "# Set y-axis label and fontsize\n",
    "plt.ylabel('Profit/Loss ($, Millions)')\n",
    "\n",
    "# Set x-axis label and fontsize\n",
    "plt.xlabel('RoI (%)')\n",
    "\n",
    "# Change x-axis ticks from scientific notation to integers\n",
    "#plt.ticklabel_format(style='plain', axis='x')\n",
    "# Change y-axis ticks from scientific notation to integers\n",
    "#plt.ticklabel_format(style='plain', axis='y')\n",
    "# Show the plot\n",
    "plt.show()"
   ]
  },
  {
   "cell_type": "code",
   "execution_count": null,
   "metadata": {},
   "outputs": [],
   "source": [
    "# Create a plot and define its size.\n",
    "plt.figure(figsize=(15, 12))\n",
    "# Draw a boxplot showing the runtime minute distributions among the ranges of\n",
    "# production budget.\n",
    "sns.boxplot(x='director',\n",
    "            y='Profit/Loss ($, Millions)',data=dirboxdata)\n",
    "# Set the plot title\n",
    "plt.title('Distribution of Profit by Director')\n",
    "# Set the x-axis Label and define fontsize\n",
    "plt.xlabel('Director')\n",
    "# Set the y-axis label and define fontsize\n",
    "plt.ylabel('Profit/Loss ($, Millions)')\n",
    "\n",
    "# Show plot\n",
    "plt.show()"
   ]
  },
  {
   "cell_type": "code",
   "execution_count": null,
   "metadata": {},
   "outputs": [],
   "source": [
    "#create averages data for scatter plot, take top 10\n",
    "wrimetrics = test9.groupby('writer').sum().sort_values(by = 'Total Box Office ($, Millions)',ascending=False).head(10)\n",
    "wridata = wrimetrics.reset_index()\n",
    "\n",
    "#take above top 10 series into list\n",
    "top10wriVClist = wrimetrics.index.tolist()\n",
    "\n",
    "#create dataframe slice for boxplot\n",
    "wriboxdata = test9[test9['writer'].isin(top10wriVClist)]"
   ]
  },
  {
   "cell_type": "code",
   "execution_count": null,
   "metadata": {},
   "outputs": [],
   "source": [
    "test9['writer'].value_counts().head(40)"
   ]
  },
  {
   "cell_type": "code",
   "execution_count": null,
   "metadata": {},
   "outputs": [],
   "source": []
  },
  {
   "cell_type": "code",
   "execution_count": null,
   "metadata": {},
   "outputs": [],
   "source": [
    "# Create a plot and set the appropriate size\n",
    "plt.figure(figsize=(18, 12))\n",
    "# Draw a seaborn scatterplot based on worldwide gross and production budget,\n",
    "\n",
    "sns.barplot(y='Total Box Office ($, Millions)',x='writer', data=wridata)\n",
    "# Set title of plot\n",
    "plt.title('Writer Cumulative Box Office')\n",
    "# Set y-axis label and fontsize\n",
    "plt.ylabel('Total Box Office ($, Millions)')\n",
    "\n",
    "# Set x-axis label and fontsize\n",
    "plt.xlabel('Writer')\n",
    "\n",
    "# Change x-axis ticks from scientific notation to integers\n",
    "#plt.ticklabel_format(style='plain', axis='x')\n",
    "# Change y-axis ticks from scientific notation to integers\n",
    "#plt.ticklabel_format(style='plain', axis='y')\n",
    "# Show the plot\n",
    "plt.show()"
   ]
  },
  {
   "cell_type": "code",
   "execution_count": null,
   "metadata": {},
   "outputs": [],
   "source": [
    "# Create a plot and define its size.\n",
    "plt.figure(figsize=(20, 12))\n",
    "# Draw a boxplot showing the runtime minute distributions among the ranges of\n",
    "# production budget.\n",
    "sns.boxplot(x='writer',\n",
    "            y='Profit/Loss ($, Millions)',data=wriboxdata)\n",
    "# Set the plot title\n",
    "plt.title('Distribution of Profit by Writer')\n",
    "# Set the x-axis Label and define fontsize\n",
    "plt.xlabel('Writer')\n",
    "# Set the y-axis label and define fontsize\n",
    "plt.ylabel('Profit/Loss ($, Millions)')\n",
    "\n",
    "# Show plot\n",
    "plt.show()"
   ]
  },
  {
   "cell_type": "markdown",
   "metadata": {},
   "source": [
    "## Conclusions\n",
    "Provide your conclusions about the work you've done, including any limitations or next steps.\n",
    "\n",
    "***\n",
    "Questions to consider:\n",
    "* What would you recommend the business do as a result of this work?\n",
    "* What are some reasons why your analysis might not fully solve the business problem?\n",
    "* What else could you do in the future to improve this project?\n",
    "***"
   ]
  },
  {
   "cell_type": "code",
   "execution_count": null,
   "metadata": {},
   "outputs": [],
   "source": [
    "#Target Production Budget Sweet Spot"
   ]
  },
  {
   "cell_type": "code",
   "execution_count": null,
   "metadata": {},
   "outputs": [],
   "source": [
    "#Recommended Cast and Crew"
   ]
  },
  {
   "cell_type": "code",
   "execution_count": null,
   "metadata": {},
   "outputs": [],
   "source": [
    "#Recommended Genre Type"
   ]
  }
 ],
 "metadata": {
  "kernelspec": {
   "display_name": "Python (learn-env)",
   "language": "python",
   "name": "learn-env"
  },
  "language_info": {
   "codemirror_mode": {
    "name": "ipython",
    "version": 3
   },
   "file_extension": ".py",
   "mimetype": "text/x-python",
   "name": "python",
   "nbconvert_exporter": "python",
   "pygments_lexer": "ipython3",
   "version": "3.8.5"
  },
  "toc-autonumbering": true
 },
 "nbformat": 4,
 "nbformat_minor": 4
}
